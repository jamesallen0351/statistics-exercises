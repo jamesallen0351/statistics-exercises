{
 "cells": [
  {
   "cell_type": "code",
   "execution_count": 1,
   "id": "sealed-fleece",
   "metadata": {},
   "outputs": [],
   "source": [
    "import numpy as np\n",
    "import pandas as pd\n",
    "import matplotlib.pyplot as plt\n",
    "from scipy import stats"
   ]
  },
  {
   "cell_type": "markdown",
   "id": "realistic-square",
   "metadata": {},
   "source": [
    "## Walk it out w/ Poisson distribution \n",
    "\n",
    "- On any given day, let's say you walk an average of 2 miles per day. \n",
    "- Create a Poisson distribution. \n",
    "- Use `.pmf` to answer the following questions in different notebook cells.\n",
    "    - What are the chances of walking exactly 0 miles? \n",
    "    - What are the odds of walking exactly 1 mile? \n",
    "    - What are the chances of walking exactly 2 miles?\n",
    "- In a separate cell, sum up all of those 3 different probabilities together.\n",
    "- Now use `.cdf` to answer the following question: What's the chance we walk 2 miles or less?\n",
    "- Compare the number from your `.cdf` with the sum of those three separate `.pmf` results? What do you see?\n",
    "- Now we'll ask the chances of walking more than 2 miles. Use `.sf`\n",
    "- Consider the relationship between the 2 numbers from the `.sf` and the `.pmf` result? What do you see?"
   ]
  },
  {
   "cell_type": "code",
   "execution_count": 5,
   "id": "b0d3b8dc",
   "metadata": {},
   "outputs": [
    {
     "data": {
      "text/plain": [
       "0.1353352832366127"
      ]
     },
     "execution_count": 5,
     "metadata": {},
     "output_type": "execute_result"
    }
   ],
   "source": [
    "# .pmf\n",
    "# average 2 miles per day\n",
    "# 0 miles\n",
    "# exactly 1 mile\n",
    "# exactly 2 miles\n",
    "\n",
    "o = stats.poisson(2).pmf(0)\n",
    "o"
   ]
  },
  {
   "cell_type": "code",
   "execution_count": 6,
   "id": "1cd34a2a",
   "metadata": {},
   "outputs": [
    {
     "data": {
      "text/plain": [
       "0.2706705664732254"
      ]
     },
     "execution_count": 6,
     "metadata": {},
     "output_type": "execute_result"
    }
   ],
   "source": [
    "a = stats.poisson(2).pmf(1)\n",
    "a"
   ]
  },
  {
   "cell_type": "code",
   "execution_count": 7,
   "id": "d254fed2",
   "metadata": {},
   "outputs": [
    {
     "data": {
      "text/plain": [
       "0.2706705664732254"
      ]
     },
     "execution_count": 7,
     "metadata": {},
     "output_type": "execute_result"
    }
   ],
   "source": [
    "b = stats.poisson(2).pmf(2)\n",
    "b"
   ]
  },
  {
   "cell_type": "code",
   "execution_count": 8,
   "id": "02b5b903",
   "metadata": {},
   "outputs": [
    {
     "data": {
      "text/plain": [
       "0.6766764161830635"
      ]
     },
     "execution_count": 8,
     "metadata": {},
     "output_type": "execute_result"
    }
   ],
   "source": [
    "# sum the 3 above probabilities\n",
    "\n",
    "(o+a+b).sum()"
   ]
  },
  {
   "cell_type": "code",
   "execution_count": 13,
   "id": "bd939dbd",
   "metadata": {},
   "outputs": [
    {
     "data": {
      "text/plain": [
       "0.6766764161830634"
      ]
     },
     "execution_count": 13,
     "metadata": {},
     "output_type": "execute_result"
    }
   ],
   "source": [
    "# .cdf\n",
    "# 2 miles or less\n",
    "# compare .cdf to .pmf sum\n",
    "\n",
    "stats.poisson(2).cdf(2)"
   ]
  },
  {
   "cell_type": "code",
   "execution_count": 14,
   "id": "8385d5f9",
   "metadata": {},
   "outputs": [
    {
     "data": {
      "text/plain": [
       "0.5939941502901616"
      ]
     },
     "execution_count": 14,
     "metadata": {},
     "output_type": "execute_result"
    }
   ],
   "source": [
    "# .sf\n",
    "# 2 more miles\n",
    "# relation .sf to .pmf\n",
    "\n",
    "stats.poisson(2).sf(2-1)"
   ]
  },
  {
   "cell_type": "markdown",
   "id": "amazing-think",
   "metadata": {},
   "source": [
    "## Flipping Out with Binomials part 0\n",
    "\n",
    "Let's model flipping a fair coin w/ a binomial. The first step is to create the `stats.binom` distribution with a trial size of 1, because we're only flipping _one_ coin at a time in this setup. Our odds of \"success\" are 0.5 since we have a fair coin. For our purposes, we'll define \"heads\" as the success case.\n",
    "\n",
    "- Using `.pmf`, determine the chance of flipping exactly 0 heads. What's the result. Why is that?\n",
    "- Using `.pmf`, determine the chance of flipping exactly 1 head. What's the result. Why is that?\n",
    "- Using that same distribution, determine the chance of flipping exactly 2 heads. Why might this be the case?"
   ]
  },
  {
   "cell_type": "markdown",
   "id": "critical-lease",
   "metadata": {},
   "source": [
    "## Flipping Out with Binomials part 1\n",
    "\n",
    "Let's model flipping 2 fair coins w/ a binomial. The first step is to create the `stats.binom` distribution with a trial size of 2, because this new distribution has a trial size of 2. Our odds of a \"success\" for each coin are 0.5 since we have a fair coin. For our purposes, we'll define \"heads\" as the success case.\n",
    "\n",
    "With this new, 2 coin distribution, work through the following:\n",
    "- Use `.pmf` to determine the probability of flipping exactly 0 heads.\n",
    "- Use `.pmf` to determine the probability of flipping exactly 1 head.\n",
    "- Use `.pmf` to determine the probability of flipping exactly 2 heads.\n",
    "- Now use `.pmf` to determine the probability of probability of flipping exactly 3 heads. Why is this number what it is?\n",
    "\n",
    "- Now use `.cdf` to determine the probability of flipping 1 head or less\n",
    "- What's the relationship between that number and the sum of the probability of exaclty 0 plus the probability of exaclty 1?\n",
    "- Now use the `.sf` to determine the probability of flipping more than 0 heads? What is the relationship of that number to the probability of flipping exactly 0 heads?"
   ]
  },
  {
   "cell_type": "markdown",
   "id": "reported-journalist",
   "metadata": {},
   "source": [
    "## Under Normal Pressure\n",
    "\n",
    "Average systolic blood pressure 120 and the standard deviation is 13. Create your normal distribution with this information.\n",
    "\n",
    "- What is the chance that someone's systolic blood pressure is _exactly_ 120?\n",
    "- What is the likelihood that someone's systolic blood pressure is 130 or lower?\n",
    "- What is the chance that someone's systolic blood pressure is above 130?\n",
    "- What is the relationship between these two probabilities?"
   ]
  },
  {
   "cell_type": "code",
   "execution_count": 7,
   "id": "configured-desperate",
   "metadata": {},
   "outputs": [],
   "source": [
    "bp_avg = 120\n",
    "stdv = 13\n",
    "\n",
    "normal_bp = stats.norm(bp_avg, stdv)"
   ]
  },
  {
   "cell_type": "code",
   "execution_count": null,
   "id": "726e43d2",
   "metadata": {},
   "outputs": [],
   "source": []
  }
 ],
 "metadata": {
  "kernelspec": {
   "display_name": "Python 3",
   "language": "python",
   "name": "python3"
  },
  "language_info": {
   "codemirror_mode": {
    "name": "ipython",
    "version": 3
   },
   "file_extension": ".py",
   "mimetype": "text/x-python",
   "name": "python",
   "nbconvert_exporter": "python",
   "pygments_lexer": "ipython3",
   "version": "3.8.8"
  }
 },
 "nbformat": 4,
 "nbformat_minor": 5
}
