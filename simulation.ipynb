{
 "cells": [
  {
   "cell_type": "code",
   "execution_count": 1,
   "id": "fe710a31",
   "metadata": {},
   "outputs": [],
   "source": [
    "import numpy as np\n",
    "import pandas as pd"
   ]
  },
  {
   "cell_type": "code",
   "execution_count": 2,
   "id": "f8a1e476",
   "metadata": {},
   "outputs": [
    {
     "data": {
      "text/plain": [
       "array([[6, 1],\n",
       "       [5, 6],\n",
       "       [2, 3],\n",
       "       [3, 4],\n",
       "       [3, 6]])"
      ]
     },
     "execution_count": 2,
     "metadata": {},
     "output_type": "execute_result"
    }
   ],
   "source": [
    "# 1 How likely is it that you roll doubles when rolling two dice?\n",
    "outcomes = [1, 2, 3, 4, 5, 6] # six sides of a die\n",
    "\n",
    "n_simulations = 1_000_000\n",
    "\n",
    "n_trials = 2 \n",
    "\n",
    "rolls = np.random.choice(outcomes, size=(n_simulations, n_trials))\n",
    "\n",
    "rolls[0:5]"
   ]
  },
  {
   "cell_type": "code",
   "execution_count": 3,
   "id": "cc99fe92",
   "metadata": {},
   "outputs": [
    {
     "name": "stderr",
     "output_type": "stream",
     "text": [
      "<ipython-input-3-8cfce7ef881d>:1: DeprecationWarning: elementwise comparison failed; this will raise an error in the future.\n",
      "  doubles = ((rolls.sum(axis=1) == [2, 4, 6, 8, 10, 12]))\n"
     ]
    },
    {
     "data": {
      "text/plain": [
       "False"
      ]
     },
     "execution_count": 3,
     "metadata": {},
     "output_type": "execute_result"
    }
   ],
   "source": [
    "doubles = ((rolls.sum(axis=1) == [2, 4, 6, 8, 10, 12]))\n",
    "doubles"
   ]
  },
  {
   "cell_type": "code",
   "execution_count": 4,
   "id": "f11e70e4",
   "metadata": {},
   "outputs": [
    {
     "data": {
      "text/plain": [
       "0.166522"
      ]
     },
     "execution_count": 4,
     "metadata": {},
     "output_type": "execute_result"
    }
   ],
   "source": [
    "# 1 How likely is it that you roll doubles when rolling two dice?\n",
    "# define each die (die1, die2) then boolaean (die1 == die2)\n",
    "\n",
    "die_1 = np.random.choice([1,2,3,4,5,6], 1_000_000)\n",
    "die_2 = np.random.choice([1,2,3,4,5,6], 1_000_000)\n",
    "\n",
    "(die_1 == die_2).mean()"
   ]
  },
  {
   "cell_type": "code",
   "execution_count": 5,
   "id": "800b401e",
   "metadata": {},
   "outputs": [
    {
     "data": {
      "text/plain": [
       "array([[0, 0, 0, 1, 1, 1, 1, 1],\n",
       "       [1, 0, 1, 0, 0, 1, 0, 0],\n",
       "       [1, 1, 1, 1, 0, 0, 1, 0],\n",
       "       [0, 0, 0, 1, 0, 1, 1, 1],\n",
       "       [0, 1, 1, 1, 0, 0, 0, 0]])"
      ]
     },
     "execution_count": 5,
     "metadata": {},
     "output_type": "execute_result"
    }
   ],
   "source": [
    "# 2 If you flip 8 coins, what is the probability of getting exactly 3 heads? \n",
    "# 'heads', 'tails' can be '1', '0'\n",
    " \n",
    "coin_flip = np.random.choice((0,1), size=(1_000_000, 8)) # choosing at random between 0 and 1, 1 million times with 8 coins\n",
    "coin_flip[0:5]"
   ]
  },
  {
   "cell_type": "code",
   "execution_count": 6,
   "id": "b1f194fc",
   "metadata": {},
   "outputs": [
    {
     "data": {
      "text/plain": [
       "array([False,  True, False, ..., False, False, False])"
      ]
     },
     "execution_count": 6,
     "metadata": {},
     "output_type": "execute_result"
    }
   ],
   "source": [
    "coin_flip.sum(axis=1) == 3 # where the coin flip is '1' 'heads' 3 times"
   ]
  },
  {
   "cell_type": "code",
   "execution_count": 7,
   "id": "e09ac7b0",
   "metadata": {},
   "outputs": [
    {
     "data": {
      "text/plain": [
       "0.219981"
      ]
     },
     "execution_count": 7,
     "metadata": {},
     "output_type": "execute_result"
    }
   ],
   "source": [
    "(coin_flip.sum(axis=1) == 3).mean() "
   ]
  },
  {
   "cell_type": "code",
   "execution_count": 8,
   "id": "44742fce",
   "metadata": {},
   "outputs": [
    {
     "data": {
      "text/plain": [
       "0.635319"
      ]
     },
     "execution_count": 8,
     "metadata": {},
     "output_type": "execute_result"
    }
   ],
   "source": [
    "#2 Continued What is the probability of getting more than 3 heads?\n",
    "(coin_flip.sum(axis=1) > 3).mean() "
   ]
  },
  {
   "cell_type": "code",
   "execution_count": 9,
   "id": "ea26e3f6",
   "metadata": {},
   "outputs": [],
   "source": [
    "# 3 There are approximitely 3 web development cohorts for every 1 data science cohort at Codeup. \n",
    "# Assuming that Codeup randomly selects an alumni to put on a billboard, \n",
    "# what are the odds that the two billboards I drive past both have data science students on them?\n",
    "\n",
    "# 3 web .75% add this as a weight \n",
    "# 1 data .25% add this as a weight\n",
    "# 2 billboards '0', '1'\n",
    "\n",
    "# random.choice(a, size=None, replace=True, p=None)\n",
    "\n",
    "billboards = np.random.choice((0,1), size=(1_000_000, 2), p=(.75, .25))"
   ]
  },
  {
   "cell_type": "code",
   "execution_count": 10,
   "id": "00780f80",
   "metadata": {},
   "outputs": [
    {
     "data": {
      "text/plain": [
       "0.06257"
      ]
     },
     "execution_count": 10,
     "metadata": {},
     "output_type": "execute_result"
    }
   ],
   "source": [
    "(billboards.sum(axis=1) == 2).mean() "
   ]
  },
  {
   "cell_type": "code",
   "execution_count": 11,
   "id": "fe542195",
   "metadata": {},
   "outputs": [
    {
     "data": {
      "text/plain": [
       "0.0625"
      ]
     },
     "execution_count": 11,
     "metadata": {},
     "output_type": "execute_result"
    }
   ],
   "source": [
    "(1/4)**2"
   ]
  },
  {
   "cell_type": "code",
   "execution_count": 2,
   "id": "66bfc2c2",
   "metadata": {},
   "outputs": [],
   "source": [
    "#4 Codeup students buy, on average, 3 poptart packages (+- 1.5) a day from the snack vending machine. \n",
    "# If on monday the machine is restocked with 17 poptart packages, \n",
    "# how likely is it that I will be able to buy some poptarts on Friday afternoon?\n",
    "\n",
    "# 3 poptarts (+-1.5) per day\n",
    "# 7 days or 5 days?\n",
    "# duration of the day\n",
    "# +17 poptarts monday\n",
    "# poptarts on friday ?\n",
    "# can not have a percent of a poptart ? is there a way to do that\n",
    "\n",
    "# np.random.normal: generates numbers from a normal distribution with a specified mean and standard deviation\n",
    "# random.normal(loc=0.0, scale=1.0, size=None)\n",
    "\n",
    "poptarts = np.random.normal(loc=3, scale=1.5, size=(1_000_000, 5))"
   ]
  },
  {
   "cell_type": "code",
   "execution_count": 3,
   "id": "2239a610",
   "metadata": {},
   "outputs": [],
   "source": [
    "# poptarts.sum(axis=1) == 1 # does not need to equal 1"
   ]
  },
  {
   "cell_type": "code",
   "execution_count": 4,
   "id": "811a1e75",
   "metadata": {
    "scrolled": true
   },
   "outputs": [
    {
     "data": {
      "text/plain": [
       "array([10.18828307, 16.02803396, 18.67341707, ..., 11.4901741 ,\n",
       "       21.13816993, 14.99526758])"
      ]
     },
     "execution_count": 4,
     "metadata": {},
     "output_type": "execute_result"
    }
   ],
   "source": [
    "\n",
    "poptarts.sum(axis=1) # what about rounding to whole numbers ??? # astype.integer?"
   ]
  },
  {
   "cell_type": "code",
   "execution_count": 5,
   "id": "5ac37b6f",
   "metadata": {
    "scrolled": true
   },
   "outputs": [
    {
     "data": {
      "text/plain": [
       "0.274971"
      ]
     },
     "execution_count": 5,
     "metadata": {},
     "output_type": "execute_result"
    }
   ],
   "source": [
    "(poptarts.sum(axis=1) > 17).mean() # I think this is how likely there will be no poptarts on friday"
   ]
  },
  {
   "cell_type": "code",
   "execution_count": 6,
   "id": "719161af",
   "metadata": {},
   "outputs": [
    {
     "data": {
      "text/plain": [
       "0.725029"
      ]
     },
     "execution_count": 6,
     "metadata": {},
     "output_type": "execute_result"
    }
   ],
   "source": [
    "(poptarts.sum(axis=1) < 17).mean() # I think this is how likely there will be poptarts on friday"
   ]
  },
  {
   "cell_type": "code",
   "execution_count": 16,
   "id": "a43b1e03",
   "metadata": {},
   "outputs": [
    {
     "data": {
      "text/plain": [
       "0.15639"
      ]
     },
     "execution_count": 16,
     "metadata": {},
     "output_type": "execute_result"
    }
   ],
   "source": [
    "# poptart question using a random.uniform\n",
    "uniform = np.random.uniform(1.5, 4.5, size=(1_000_000, 5))\n",
    "(uniform.sum(axis=1) > 17).mean()"
   ]
  },
  {
   "cell_type": "code",
   "execution_count": 17,
   "id": "4cb88e2c",
   "metadata": {},
   "outputs": [
    {
     "data": {
      "text/plain": [
       "0.212597"
      ]
     },
     "execution_count": 17,
     "metadata": {},
     "output_type": "execute_result"
    }
   ],
   "source": [
    "# 5 Compare Heights\n",
    "\n",
    "# Men have an average height of 178 cm and standard deviation of 8cm.\n",
    "# Women have a mean of 170, sd = 6cm.\n",
    "# Since you have means and standard deviations, you can use np.random.normal to generate observations.\n",
    "# If a man and woman are chosen at random, P(woman taller than man)?\n",
    "\n",
    "\n",
    "# men 178 +-8\n",
    "# women 170 +-6\n",
    "# # random.normal(loc=0.0, scale=1.0, size=None)\n",
    "\n",
    "tall_men = np.random.normal(loc=178, scale=8, size=1_000_000)\n",
    "tall_women = np.random.normal(loc=170, scale=6, size=1_000_000)\n",
    "(tall_women > tall_men).mean()"
   ]
  },
  {
   "cell_type": "code",
   "execution_count": 9,
   "id": "e1396ebf",
   "metadata": {
    "scrolled": true
   },
   "outputs": [
    {
     "data": {
      "text/plain": [
       "array([226])"
      ]
     },
     "execution_count": 9,
     "metadata": {},
     "output_type": "execute_result"
    }
   ],
   "source": [
    "#6 When installing anaconda on a student's computer, \n",
    "# there's a 1 in 250 chance that the download is corrupted and the installation fails. \n",
    "# What are the odds that after having 50 students download anaconda, no one has an installation issue? 100 students?\n",
    "\n",
    "# What is the probability that we observe an installation issue within the first 150 students that download anaconda?\n",
    "\n",
    "# How likely is it that 450 students all download anaconda without an issue?\n",
    "\n",
    "\n",
    "# 1 / 250 corrupted\n",
    "# 50 students no issues\n",
    "# 100 students no issues\n",
    "\n",
    "array_1_to_251 = np.arange(start = 1, stop =250)\n",
    "np.random.choice(a = array_1_to_251, size = 1)\n",
    "# I dont think I needed these\n"
   ]
  },
  {
   "cell_type": "code",
   "execution_count": 10,
   "id": "d42c3152",
   "metadata": {},
   "outputs": [
    {
     "data": {
      "text/plain": [
       "array([[0, 0, 0, ..., 0, 0, 0],\n",
       "       [0, 0, 0, ..., 0, 0, 0],\n",
       "       [0, 0, 0, ..., 0, 0, 0],\n",
       "       ...,\n",
       "       [0, 0, 0, ..., 0, 0, 0],\n",
       "       [0, 0, 0, ..., 0, 0, 0],\n",
       "       [0, 0, 0, ..., 0, 0, 0]])"
      ]
     },
     "execution_count": 10,
     "metadata": {},
     "output_type": "execute_result"
    }
   ],
   "source": [
    "#50 students\n",
    "no_issue = np.random.choice((0,1), size=(1_000_000, 50), p=(.996, .004))\n",
    "no_issue"
   ]
  },
  {
   "cell_type": "code",
   "execution_count": 11,
   "id": "416034a4",
   "metadata": {},
   "outputs": [
    {
     "data": {
      "text/plain": [
       "array([ True,  True,  True, ..., False,  True, False])"
      ]
     },
     "execution_count": 11,
     "metadata": {},
     "output_type": "execute_result"
    }
   ],
   "source": [
    "(no_issue.sum(axis=1) == 0)"
   ]
  },
  {
   "cell_type": "code",
   "execution_count": 12,
   "id": "d668f92e",
   "metadata": {},
   "outputs": [
    {
     "data": {
      "text/plain": [
       "0.818174"
      ]
     },
     "execution_count": 12,
     "metadata": {},
     "output_type": "execute_result"
    }
   ],
   "source": [
    "(no_issue.sum(axis=1) == 0).mean()"
   ]
  },
  {
   "cell_type": "code",
   "execution_count": 13,
   "id": "ca0538c0",
   "metadata": {},
   "outputs": [
    {
     "data": {
      "text/plain": [
       "0.670189"
      ]
     },
     "execution_count": 13,
     "metadata": {},
     "output_type": "execute_result"
    }
   ],
   "source": [
    "#100 students\n",
    "no_issue_100 = np.random.choice((0,1), size=(1_000_000, 100), p=(.996, .004))\n",
    "(no_issue_100.sum(axis=1) == 0).mean()"
   ]
  },
  {
   "cell_type": "code",
   "execution_count": 14,
   "id": "7b98f270",
   "metadata": {},
   "outputs": [
    {
     "data": {
      "text/plain": [
       "0.996"
      ]
     },
     "execution_count": 14,
     "metadata": {},
     "output_type": "execute_result"
    }
   ],
   "source": [
    "249/250"
   ]
  },
  {
   "cell_type": "code",
   "execution_count": 15,
   "id": "47d415c1",
   "metadata": {},
   "outputs": [
    {
     "data": {
      "text/plain": [
       "0.004"
      ]
     },
     "execution_count": 15,
     "metadata": {},
     "output_type": "execute_result"
    }
   ],
   "source": [
    "1/250"
   ]
  },
  {
   "cell_type": "code",
   "execution_count": 16,
   "id": "d4dbca3b",
   "metadata": {},
   "outputs": [
    {
     "data": {
      "text/plain": [
       "0.451505"
      ]
     },
     "execution_count": 16,
     "metadata": {},
     "output_type": "execute_result"
    }
   ],
   "source": [
    "# What is the probability that we observe an installation issue within the first 150 students that download anaconda?\n",
    "issue_150 = np.random.choice((0,1), size=(1_000_000, 150), p=(.996, .004))\n",
    "(issue_150.sum(axis=1) > 0).mean()"
   ]
  },
  {
   "cell_type": "code",
   "execution_count": 17,
   "id": "f72a46e9",
   "metadata": {},
   "outputs": [
    {
     "data": {
      "text/plain": [
       "0.164805"
      ]
     },
     "execution_count": 17,
     "metadata": {},
     "output_type": "execute_result"
    }
   ],
   "source": [
    "# How likely is it that 450 students all download anaconda without an issue?\n",
    "no_issue_450 = np.random.choice((0,1), size=(1_000_000, 450), p=(.996, .004))\n",
    "(no_issue_450.sum(axis=1) == 0).mean()"
   ]
  },
  {
   "cell_type": "code",
   "execution_count": 28,
   "id": "c67a8f6b",
   "metadata": {},
   "outputs": [
    {
     "data": {
      "text/plain": [
       "0.027366"
      ]
     },
     "execution_count": 28,
     "metadata": {},
     "output_type": "execute_result"
    }
   ],
   "source": [
    "#7 There's a 70% chance on any given day that there will be at least one food truck at Travis Park. \n",
    "# However, you haven't seen a food truck there in 3 days. How unlikely is this?\n",
    "\n",
    "# .70 chance\n",
    "# 7 days\n",
    "\n",
    "food_truck = np.random.choice((0,1), size=(1_000_000, 3), p=(.30, .70))\n",
    "(food_truck.sum(axis=1) == 0).mean()"
   ]
  },
  {
   "cell_type": "code",
   "execution_count": 29,
   "id": "d9cac422",
   "metadata": {},
   "outputs": [
    {
     "data": {
      "text/plain": [
       "0.972634"
      ]
     },
     "execution_count": 29,
     "metadata": {},
     "output_type": "execute_result"
    }
   ],
   "source": [
    "# How likely is it that a food truck will show up sometime this week?\n",
    "food_truck_this_week = np.random.choice((0,1), size=(1_000_000, 7), p=(.30, .70))\n",
    "(food_truck.sum(axis=1) > 0).mean()"
   ]
  },
  {
   "cell_type": "code",
   "execution_count": 37,
   "id": "f002575a",
   "metadata": {},
   "outputs": [],
   "source": [
    "#8 If 23 people are in the same room, what are the odds that two of them share a birthday? \n",
    "# 50 / 50 birthday paradox\n",
    "\n",
    "# What if it's 20 people? \n",
    "# 40?"
   ]
  },
  {
   "cell_type": "code",
   "execution_count": 18,
   "id": "3aefe34d",
   "metadata": {},
   "outputs": [],
   "source": [
    "from random import randint\n",
    "from datetime import datetime, timedelta\n",
    "\n",
    "def random_birthdays(number_of_people):\n",
    "    first_day_of_year = datetime(2000, 1, 1)\n",
    "    return [first_day_of_year + timedelta(days=randint(0, 365))\n",
    "            for _ in range(number_of_people)]"
   ]
  },
  {
   "cell_type": "code",
   "execution_count": 19,
   "id": "70cd7e15",
   "metadata": {},
   "outputs": [],
   "source": [
    "def determine_probability(number_of_people, run_amount=1_000):\n",
    "    dups_found = 0\n",
    "    for _ in range(run_amount):\n",
    "        birthdays = random_birthdays(number_of_people)\n",
    "        duplicates = set(x for x in birthdays if birthdays.count(x) > 1)\n",
    "        if len(duplicates) >= 1:\n",
    "            dups_found += 1\n",
    "\n",
    "    return dups_found/run_amount * 100"
   ]
  },
  {
   "cell_type": "code",
   "execution_count": 20,
   "id": "6b126f94",
   "metadata": {},
   "outputs": [
    {
     "name": "stdout",
     "output_type": "stream",
     "text": [
      "23 Random people have a 50.9% chance of having a birthday on the same day\n",
      "20 Random people have a 40.1% chance of having a birthday on the same day\n",
      "40 Random people have a 89.1% chance of having a birthday on the same day\n"
     ]
    }
   ],
   "source": [
    "if __name__ == '__main__':\n",
    "    msg = (\"{people} Random people have a {chance:.1f}%\"\n",
    "           \" chance of having a birthday on the same day\")\n",
    "    for people in (23, 20, 40):\n",
    "        print(msg.format(people=people, chance=determine_probability(people)))"
   ]
  },
  {
   "cell_type": "code",
   "execution_count": null,
   "id": "efcb399a",
   "metadata": {},
   "outputs": [],
   "source": [
    "### steven's example\n",
    "\n",
    "folks = 40\n",
    "n = 10000\n",
    "matches = 0\n",
    "samples = np.random.randint(1,366,folks*n).reshape(n,folks)\n",
    "\n",
    "for s in samples:\n",
    "\tfor ix, x in enumerate(s):\n",
    "\t\tif x in s[ix+1:]:\n",
    "\t\t\tmatches += 1\n",
    "\t\t\tbreak\n",
    "print(f\"Prob. of a match is {matches/n}\")"
   ]
  },
  {
   "cell_type": "code",
   "execution_count": null,
   "id": "8725ce54",
   "metadata": {},
   "outputs": [],
   "source": []
  }
 ],
 "metadata": {
  "kernelspec": {
   "display_name": "Python 3",
   "language": "python",
   "name": "python3"
  },
  "language_info": {
   "codemirror_mode": {
    "name": "ipython",
    "version": 3
   },
   "file_extension": ".py",
   "mimetype": "text/x-python",
   "name": "python",
   "nbconvert_exporter": "python",
   "pygments_lexer": "ipython3",
   "version": "3.8.8"
  }
 },
 "nbformat": 4,
 "nbformat_minor": 5
}
