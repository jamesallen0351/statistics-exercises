{
 "cells": [
  {
   "cell_type": "code",
   "execution_count": 1,
   "id": "0a1954a3",
   "metadata": {},
   "outputs": [],
   "source": [
    "# hypothesis_testing"
   ]
  },
  {
   "cell_type": "markdown",
   "id": "3be0e971",
   "metadata": {},
   "source": [
    "# For each of the following questions, formulate a null and alternative hypothesis (be as specific as you can be), then give an example of what a true positive, true negative, type I and type II errors would look like. Note that some of the questions are intentionally phrased in a vague way. It is your job to reword these as more precise questions that could be tested."
   ]
  },
  {
   "cell_type": "markdown",
   "id": "8c7015dd",
   "metadata": {},
   "source": [
    "**Null hypothesis:** $H_{0}$ the 'default', no difference, no change, no effect\n",
    "\n",
    "**Alternate Hypothesis:** $H_{a}$ Generally what your hypothesis is, that there is a difference, an effect, etc."
   ]
  },
  {
   "cell_type": "markdown",
   "id": "7e488d70",
   "metadata": {},
   "source": [
    "# Has the network latency gone up since we switched internet service providers?\n",
    "\n",
    "questions that come to mind:\n",
    "- What is the mean of the network latency?\n",
    "- What is the mean of the old network compared to a new network?\n",
    "- is there a time period for measuring the network latency?\n",
    "\n",
    "rephrase:\n",
    "- Has there been an increase in network latency since switching internet service providers?\n",
    "\n",
    "\n",
    "**Null hypothesis:** $H_{0}$ there has been no change to network latency in since switching service providers\n",
    "\n",
    "**Alternate Hypothesis:** $H_{a}$ there has been an increase in network latency since switching service providers\n",
    "\n",
    "**True Positive** We have predicted that yes we have an increase in the network latency from the alternate\n",
    "\n",
    "**True Negative** If we did predict that there has not been an increase in the network latency\n",
    "\n",
    "**Type I** Believing there is an increase in network latency when there is not\n",
    "\n",
    "**Type II** Not believing there was an increase in network latency when there actually was\n"
   ]
  },
  {
   "cell_type": "markdown",
   "id": "0e09d05e",
   "metadata": {},
   "source": [
    "# Is the website redesign any good?\n",
    "\n",
    "questions that come to mind:\n",
    "- what website?\n",
    "- what is the measure or value for 'any good'?\n",
    "- was the website bad before?\n",
    "- what did the redesign consits of? add/taken _away?\n",
    "\n",
    "rephrase:\n",
    "- Have the visits to the website increased since the redesign?\n",
    "\n",
    "**Null hypothesis:** $H_{0}$ Visits to the redesigned website have remained consistant\n",
    "\n",
    "**Alternate Hypothesis:** $H_{a}$ Visits to the redesigned website have increased\n",
    "\n",
    "**True Positive** We have predicted that there an increase in visits to the redesined website\n",
    "\n",
    "**True Negative** We did predict that the redesign was not good\n",
    "\n",
    "**Type I** Believing that the redesign was good when it was not\n",
    "\n",
    "**Type II** Not believing the redesign was good when it actually was"
   ]
  },
  {
   "cell_type": "markdown",
   "id": "a80b5c5e",
   "metadata": {},
   "source": [
    "# Is our television ad driving more sales?\n",
    "\n",
    "questions that come to mind:\n",
    "- what where sales prior to the add?\n",
    "- how long has the add been running?\n",
    "- is there a sales goal from running the add?\n",
    "- how are we measuring sales?\n",
    "- what was the cost of the add in terms of sales / individual sale?\n",
    "- Single or multiple products?\n",
    "\n",
    "rephrase:\n",
    "- in the past 6 months, have our \"product a\" sales increased due to our superbowl add?\n",
    "\n",
    "**Null hypothesis:** $H_{0}$ television ads have no affect on sales in the last six months\n",
    "\n",
    "**Alternate Hypothesis:** $H_{a}$ television ads have increase sales in the last six months\n",
    "\n",
    "**True Positive** We have predicted tv ads have increased sales in the last six months\n",
    "\n",
    "**True Negative** We did predict that tv ads have no affect on sales in the last six months\n",
    "\n",
    "**Type I** Believing tv ads have increased sales in the last six months when they have not\n",
    "**Type II** Not believing tv ads increased sales in the last six months when they actually have increased"
   ]
  },
  {
   "cell_type": "code",
   "execution_count": null,
   "id": "15f417aa",
   "metadata": {},
   "outputs": [],
   "source": []
  }
 ],
 "metadata": {
  "kernelspec": {
   "display_name": "Python 3",
   "language": "python",
   "name": "python3"
  },
  "language_info": {
   "codemirror_mode": {
    "name": "ipython",
    "version": 3
   },
   "file_extension": ".py",
   "mimetype": "text/x-python",
   "name": "python",
   "nbconvert_exporter": "python",
   "pygments_lexer": "ipython3",
   "version": "3.8.8"
  }
 },
 "nbformat": 4,
 "nbformat_minor": 5
}
