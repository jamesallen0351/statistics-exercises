{
 "cells": [
  {
   "cell_type": "code",
   "execution_count": 1,
   "id": "2df1c23b",
   "metadata": {},
   "outputs": [],
   "source": [
    "# hypothesis_testing"
   ]
  },
  {
   "cell_type": "markdown",
   "id": "6e48ca4c",
   "metadata": {},
   "source": [
    "# For each of the following questions, formulate a null and alternative hypothesis (be as specific as you can be), then give an example of what a true positive, true negative, type I and type II errors would look like. Note that some of the questions are intentionally phrased in a vague way. It is your job to reword these as more precise questions that could be tested."
   ]
  },
  {
   "cell_type": "code",
   "execution_count": 2,
   "id": "84d5ab95",
   "metadata": {},
   "outputs": [],
   "source": [
    "# Has the network latency gone up since we switched internet service providers?"
   ]
  },
  {
   "cell_type": "code",
   "execution_count": 3,
   "id": "998a839a",
   "metadata": {},
   "outputs": [],
   "source": [
    "# Is the website redesign any good?"
   ]
  },
  {
   "cell_type": "code",
   "execution_count": 4,
   "id": "54ed0dc9",
   "metadata": {},
   "outputs": [],
   "source": [
    "# Is our television ad driving more sales?"
   ]
  },
  {
   "cell_type": "code",
   "execution_count": null,
   "id": "597c39da",
   "metadata": {},
   "outputs": [],
   "source": []
  }
 ],
 "metadata": {
  "kernelspec": {
   "display_name": "Python 3",
   "language": "python",
   "name": "python3"
  },
  "language_info": {
   "codemirror_mode": {
    "name": "ipython",
    "version": 3
   },
   "file_extension": ".py",
   "mimetype": "text/x-python",
   "name": "python",
   "nbconvert_exporter": "python",
   "pygments_lexer": "ipython3",
   "version": "3.8.8"
  }
 },
 "nbformat": 4,
 "nbformat_minor": 5
}
