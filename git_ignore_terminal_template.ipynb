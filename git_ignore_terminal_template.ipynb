{
 "cells": [
  {
   "cell_type": "markdown",
   "id": "028d4650",
   "metadata": {},
   "source": [
    "# adding a git ignore to repository from one that I made previously\n",
    "run the below commands on the terminal to add it to this repository"
   ]
  },
  {
   "cell_type": "code",
   "execution_count": 1,
   "id": "3954f14e",
   "metadata": {},
   "outputs": [],
   "source": [
    "# cp ~/codeup-data-science/numpy-pandas-visualization-exercises/.gitignore ~/codeup-data-science/statistics-exercises "
   ]
  },
  {
   "cell_type": "code",
   "execution_count": null,
   "id": "f79fc23a",
   "metadata": {},
   "outputs": [],
   "source": [
    "# cp ~/codeup-data-science/numpy-pandas-visualization-exercises/env.py ~/codeup-data-science/statistics-exercises"
   ]
  },
  {
   "cell_type": "markdown",
   "id": "25e7ece3",
   "metadata": {},
   "source": [
    "# creating a template to use for future repositories"
   ]
  },
  {
   "cell_type": "code",
   "execution_count": 2,
   "id": "477e83a8",
   "metadata": {},
   "outputs": [],
   "source": [
    "# cp ~/codeup-data-science/numpy-pandas-visualization-exercises/.gitignore ~/codeup-data-science/\"new_repository_name\""
   ]
  },
  {
   "cell_type": "code",
   "execution_count": null,
   "id": "7930db19",
   "metadata": {},
   "outputs": [],
   "source": [
    "# cp ~/codeup-data-science/numpy-pandas-visualization-exercises/env.py ~/codeup-data-science/\"new_repository_name\""
   ]
  },
  {
   "cell_type": "markdown",
   "id": "36f19eaf",
   "metadata": {},
   "source": [
    "# setting up a template to connect to a database"
   ]
  },
  {
   "cell_type": "code",
   "execution_count": null,
   "id": "59729ad4",
   "metadata": {},
   "outputs": [],
   "source": [
    "from env import host, user, password\n",
    "\n",
    "url = f'mysql+pymysql://{user}:{password}@{host}/employees'"
   ]
  },
  {
   "cell_type": "code",
   "execution_count": null,
   "id": "9ccbde45",
   "metadata": {},
   "outputs": [],
   "source": [
    "def get_db_url(user,password,host,database):\n",
    "    \n",
    "    return f'mysql+pymysql://{user}:{password}@{host}/{database}'"
   ]
  },
  {
   "cell_type": "code",
   "execution_count": null,
   "id": "13ef92fe",
   "metadata": {},
   "outputs": [],
   "source": [
    "import pandas as pd\n",
    "from env import user, password, host\n",
    "\n",
    "pd.read_sql(\"select * from employees\", get_db_url(user, password, host, 'employees'))"
   ]
  },
  {
   "cell_type": "code",
   "execution_count": null,
   "id": "ea78d286",
   "metadata": {},
   "outputs": [],
   "source": [
    "def get_data_from_sql(user, host, password, database, query):\n",
    "    \n",
    "    url = f'mysql+pymysql://{user}:{password}@{host}/{database}'\n",
    "        \n",
    "    return pd.read_sql(query, url)"
   ]
  },
  {
   "cell_type": "code",
   "execution_count": null,
   "id": "5337d78d",
   "metadata": {},
   "outputs": [],
   "source": [
    "query = '''select * from employees'''\n",
    "\n",
    "df = get_data_from_sql(user, host, password, \"employees\", query)"
   ]
  }
 ],
 "metadata": {
  "kernelspec": {
   "display_name": "Python 3",
   "language": "python",
   "name": "python3"
  },
  "language_info": {
   "codemirror_mode": {
    "name": "ipython",
    "version": 3
   },
   "file_extension": ".py",
   "mimetype": "text/x-python",
   "name": "python",
   "nbconvert_exporter": "python",
   "pygments_lexer": "ipython3",
   "version": "3.8.8"
  }
 },
 "nbformat": 4,
 "nbformat_minor": 5
}
