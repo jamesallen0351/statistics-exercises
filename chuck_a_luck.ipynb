{
 "cells": [
  {
   "cell_type": "code",
   "execution_count": 2,
   "id": "e221c73d",
   "metadata": {},
   "outputs": [],
   "source": [
    "import numpy as np\n",
    "import pandas as pd"
   ]
  },
  {
   "cell_type": "markdown",
   "id": "e9a1a4c7",
   "metadata": {},
   "source": [
    "# Simulating Chuck a Luck\n",
    "\n",
    "## \"Pay a Buck and Chuck-a-Luck\" \n",
    "\n",
    "[Chuck-a-Luck](https://en.wikipedia.org/wiki/Chuck-a-luck) is a game of chance often associated with charity fundraisers or street gambling rather than casinos. \n",
    "\n",
    "To play, the House says, \"Pay $1, pick a number and roll 3 dice. If any of those dice come up, you'll win $1, $2, or $3\". \n",
    "\n",
    "> \"It's even odds\", they say, \"because the probability of rolling your number is 1/6 and you get to roll 3 dice! 1/6 + 1/6 + 1/6 is 3/6 which is 1/2\". \n",
    "\n",
    "You know better than this, so it's time to make an experiment to approximate the actual risk and payoff...\n",
    "\n",
    "Rules:\n",
    "- The player pays $1 to play and picks a number.\n",
    "- The House rolls 3 dice at once.\n",
    "\n",
    "- Payouts:\n",
    "  - $3 if all three dice match the chosen number\n",
    "  - $2 if exactly two dice match the chosen number\n",
    "  - $1 is exactly one of the dice matches the chosen number\n",
    "  - If none of the dice match the player's chosen number, then the House keeps the $1.\n",
    "\n",
    "Exercises:\n",
    "- What are your chances of getting an outcome payout of $2? (where we earned $3 on the $1 ante)\n",
    "- What are your chances of getting an payout of $1?\n",
    "- What are your chances of getting a payout of $0 where you ante $1 and win $1?\n",
    "- What are your chances of getting a payout of -$1 where you ante up, but don't win anything?\n",
    "- What is the average cost/gain per game? (think of averaging the total payout calculation across all simulations)\n",
    "\n",
    "- Chart out a histogram of all the outcomes of those 1,000,000 games\n",
    "- Is this really a fair game of 1/6 + 1/6 + 1/6 odds?\n",
    "- If you play 1,000,000 games in a row, what are your winnings/losses?"
   ]
  },
  {
   "cell_type": "code",
   "execution_count": 5,
   "id": "4d9e69f2",
   "metadata": {},
   "outputs": [
    {
     "data": {
      "text/plain": [
       "0.027589"
      ]
     },
     "execution_count": 5,
     "metadata": {},
     "output_type": "execute_result"
    }
   ],
   "source": [
    "# - What are your chances of getting an outcome payout of $2? (where we earned $3 on the $1 ante)\n",
    "#- $3 if all three dice match the chosen number\n",
    "\n",
    "die_1 = np.random.choice([1,2,3,4,5,6], 1_000_000)\n",
    "die_2 = np.random.choice([1,2,3,4,5,6], 1_000_000)\n",
    "die_3 = np.random.choice([1,2,3,4,5,6], 1_000_000)\n",
    "\n",
    "((die_1 == die_2) & (die_1 == die_3)).mean()"
   ]
  },
  {
   "cell_type": "code",
   "execution_count": 16,
   "id": "dc6d865c",
   "metadata": {},
   "outputs": [
    {
     "data": {
      "text/plain": [
       "0.721657"
      ]
     },
     "execution_count": 16,
     "metadata": {},
     "output_type": "execute_result"
    }
   ],
   "source": [
    "# - What are your chances of getting an payout of $1?\n",
    "#  - $2 if exactly two dice match the chosen number\n",
    "\n",
    "die_1 = np.random.choice([1,2,3,4,5,6], 1_000_000)\n",
    "die_2 = np.random.choice([1,2,3,4,5,6], 1_000_000)\n",
    "die_3 = np.random.choice([1,2,3,4,5,6], 1_000_000)\n",
    "\n",
    "match_1 = (die_1 == die_2)\n",
    "match_2 = (die_1 == die_3)\n",
    "match_3 = (die_2 == die_3)\n",
    "\n",
    "two_dice = (match_1 == match_2)\n",
    "two_dice_1 = (match_2 == match_3)\n",
    "\n",
    "two_dice_match = (two_dice == two_dice_1)\n",
    "two_dice_match.mean()"
   ]
  },
  {
   "cell_type": "code",
   "execution_count": 21,
   "id": "f014badf",
   "metadata": {},
   "outputs": [
    {
     "data": {
      "text/plain": [
       "array([[5, 5, 3],\n",
       "       [1, 4, 4],\n",
       "       [2, 3, 4],\n",
       "       ...,\n",
       "       [6, 6, 3],\n",
       "       [6, 5, 5],\n",
       "       [3, 5, 3]])"
      ]
     },
     "execution_count": 21,
     "metadata": {},
     "output_type": "execute_result"
    }
   ],
   "source": [
    "# - What are your chances of getting a payout of $0 where you ante $1 and win $1?\n",
    "# - $1 is exactly one of the dice matches the chosen number\n",
    "\n",
    "outcomes = [1, 2, 3, 4, 5, 6] # six sides of a die\n",
    "\n",
    "n_simulations = 1_000_000\n",
    "\n",
    "n_trials = 3 \n",
    "\n",
    "rolls = np.random.choice(outcomes, size=(n_simulations, n_trials))\n",
    "rolls"
   ]
  },
  {
   "cell_type": "code",
   "execution_count": 22,
   "id": "292777ce",
   "metadata": {},
   "outputs": [
    {
     "data": {
      "text/plain": [
       "array([13,  9,  9, ..., 15, 16, 11])"
      ]
     },
     "execution_count": 22,
     "metadata": {},
     "output_type": "execute_result"
    }
   ],
   "source": [
    "sum_of_rolls = rolls.sum(axis=1)\n",
    "sum_of_rolls"
   ]
  },
  {
   "cell_type": "code",
   "execution_count": 25,
   "id": "d5215f17",
   "metadata": {},
   "outputs": [
    {
     "data": {
      "text/plain": [
       "0.004711"
      ]
     },
     "execution_count": 25,
     "metadata": {},
     "output_type": "execute_result"
    }
   ],
   "source": [
    "(sum_of_rolls == 3).mean()"
   ]
  },
  {
   "cell_type": "code",
   "execution_count": null,
   "id": "4f78fdd8",
   "metadata": {},
   "outputs": [],
   "source": []
  },
  {
   "cell_type": "code",
   "execution_count": null,
   "id": "4e9da5de",
   "metadata": {},
   "outputs": [],
   "source": []
  }
 ],
 "metadata": {
  "kernelspec": {
   "display_name": "Python 3",
   "language": "python",
   "name": "python3"
  },
  "language_info": {
   "codemirror_mode": {
    "name": "ipython",
    "version": 3
   },
   "file_extension": ".py",
   "mimetype": "text/x-python",
   "name": "python",
   "nbconvert_exporter": "python",
   "pygments_lexer": "ipython3",
   "version": "3.8.8"
  }
 },
 "nbformat": 4,
 "nbformat_minor": 5
}
