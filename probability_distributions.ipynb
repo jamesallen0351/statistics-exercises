{
 "cells": [
  {
   "cell_type": "code",
   "execution_count": 2,
   "id": "8b793e7b",
   "metadata": {},
   "outputs": [],
   "source": [
    "# probability_distributions"
   ]
  },
  {
   "cell_type": "code",
   "execution_count": 3,
   "id": "dd7efd5c",
   "metadata": {},
   "outputs": [],
   "source": [
    "import matplotlib.pyplot as plt\n",
    "import numpy as np\n",
    "from scipy import stats\n"
   ]
  },
  {
   "cell_type": "markdown",
   "id": "e78be914",
   "metadata": {},
   "source": [
    "# For the following problems, use python to simulate the problem and calculate an experimental probability, then compare that to the theoretical probability."
   ]
  },
  {
   "cell_type": "markdown",
   "id": "bfe25181",
   "metadata": {},
   "source": [
    "# 1. A bank found that the average number of cars waiting during the noon hour at a drive-up window follows a Poisson distribution with a mean of 2 cars. Make a chart of this distribution and answer these questions concerning the probability of cars waiting at the drive-up window."
   ]
  },
  {
   "cell_type": "code",
   "execution_count": 4,
   "id": "05ca94d8",
   "metadata": {},
   "outputs": [],
   "source": [
    "# What is the probability that no cars drive up in the noon hour?\n",
    "# What is the probability that 3 or more cars come through the drive through?\n",
    "# How likely is it that the drive through gets at least 1 car?"
   ]
  },
  {
   "cell_type": "code",
   "execution_count": null,
   "id": "fee6a752",
   "metadata": {},
   "outputs": [],
   "source": [
    "# theoretical answers ?\n",
    "\n"
   ]
  },
  {
   "cell_type": "code",
   "execution_count": 10,
   "id": "cb9a948c",
   "metadata": {},
   "outputs": [
    {
     "data": {
      "text/plain": [
       "0.1353352832366127"
      ]
     },
     "execution_count": 10,
     "metadata": {},
     "output_type": "execute_result"
    }
   ],
   "source": [
    "# drive through mean 2 cars\n",
    "# What is the probability that no cars drive up in the noon hour?\n",
    "\n",
    "stats.poisson(2).pmf(0)"
   ]
  },
  {
   "cell_type": "code",
   "execution_count": 11,
   "id": "b0e50323",
   "metadata": {},
   "outputs": [
    {
     "data": {
      "text/plain": [
       "0.14287653950145296"
      ]
     },
     "execution_count": 11,
     "metadata": {},
     "output_type": "execute_result"
    }
   ],
   "source": [
    "# What is the probability that 3 or more cars come through the drive through?\n",
    "\n",
    "stats.poisson(2).sf(3) #use .sf for 3 or more "
   ]
  },
  {
   "cell_type": "code",
   "execution_count": 7,
   "id": "817681a2",
   "metadata": {},
   "outputs": [
    {
     "data": {
      "text/plain": [
       "0.2706705664732254"
      ]
     },
     "execution_count": 7,
     "metadata": {},
     "output_type": "execute_result"
    }
   ],
   "source": [
    "# # How likely is it that the drive through gets at least 1 car?\n",
    "\n",
    "stats.poisson(2).pmf(1)"
   ]
  },
  {
   "cell_type": "code",
   "execution_count": 12,
   "id": "ab1f461d",
   "metadata": {},
   "outputs": [],
   "source": [
    "#2 Grades of State University graduates are normally distributed with a mean of 3.0 and a standard deviation of .3. \n",
    "# Calculate the following:\n",
    "\n",
    "# What grade point average is required to be in the top 5% of the graduating class?\n",
    "# What GPA constitutes the bottom 15% of the class?\n",
    "# An eccentric alumnus left scholarship money for students in the third decile from the bottom of their class.\n",
    "# Determine the range of the third decile.\n",
    "# Would a student with a 2.8 grade point average qualify for this scholarship?\n",
    "# If I have a GPA of 3.5, what percentile am I in?"
   ]
  },
  {
   "cell_type": "code",
   "execution_count": 14,
   "id": "23dbd87e",
   "metadata": {},
   "outputs": [
    {
     "name": "stdout",
     "output_type": "stream",
     "text": [
      "3.49\n"
     ]
    }
   ],
   "source": [
    "# mean 3\n",
    "# stdv .3\n",
    "# What grade point average is required to be in the top 5% of the graduating class?\n",
    "μ = 3\n",
    "σ = .3\n",
    "\n",
    "gpa = stats.norm(μ, σ)\n",
    "\n",
    "top_5_percent = gpa.ppf(.95) # top 5 percent is represented .95\n",
    "\n",
    "\n",
    "print('{:,.2f}'.format(top_5_percent))"
   ]
  },
  {
   "cell_type": "code",
   "execution_count": 15,
   "id": "36665a9e",
   "metadata": {},
   "outputs": [
    {
     "name": "stdout",
     "output_type": "stream",
     "text": [
      "2.69\n"
     ]
    }
   ],
   "source": [
    "# What GPA constitutes the bottom 15% of the class?\n",
    "\n",
    "bottom_15_percent = gpa.ppf(.15)\n",
    "\n",
    "print('{:,.2f}'.format(bottom_15_percent))"
   ]
  },
  {
   "cell_type": "code",
   "execution_count": 25,
   "id": "602e5ab7",
   "metadata": {},
   "outputs": [
    {
     "data": {
      "text/plain": [
       "0.0951662162594622"
      ]
     },
     "execution_count": 25,
     "metadata": {},
     "output_type": "execute_result"
    }
   ],
   "source": [
    "# Determine the range of the third decile.\n",
    "\n",
    "thrid_decile = gpa.ppf(.30) - gpa.ppf(.20)\n",
    "thrid_decile # range of third_decile .0951\n",
    "\n"
   ]
  },
  {
   "cell_type": "code",
   "execution_count": 27,
   "id": "eaf4c655",
   "metadata": {},
   "outputs": [
    {
     "data": {
      "text/plain": [
       "0.2524925375469227"
      ]
     },
     "execution_count": 27,
     "metadata": {},
     "output_type": "execute_result"
    }
   ],
   "source": [
    "# Would a student with a 2.8 grade point average qualify for this scholarship?\n",
    "\n",
    "gpa.cdf(2.8) # yes they would qualify"
   ]
  },
  {
   "cell_type": "code",
   "execution_count": 29,
   "id": "943b1273",
   "metadata": {},
   "outputs": [
    {
     "data": {
      "text/plain": [
       "2.8"
      ]
     },
     "execution_count": 29,
     "metadata": {},
     "output_type": "execute_result"
    }
   ],
   "source": [
    "gpa.ppf(.2524925375469227)"
   ]
  },
  {
   "cell_type": "code",
   "execution_count": 30,
   "id": "b03ddaea",
   "metadata": {},
   "outputs": [
    {
     "data": {
      "text/plain": [
       "0.9522096477271853"
      ]
     },
     "execution_count": 30,
     "metadata": {},
     "output_type": "execute_result"
    }
   ],
   "source": [
    "# If I have a GPA of 3.5, what percentile am I in?\n",
    "\n",
    "gpa.cdf(3.5)"
   ]
  },
  {
   "cell_type": "code",
   "execution_count": 32,
   "id": "ea6b22f9",
   "metadata": {},
   "outputs": [
    {
     "data": {
      "text/plain": [
       "3.3844654696633802"
      ]
     },
     "execution_count": 32,
     "metadata": {},
     "output_type": "execute_result"
    }
   ],
   "source": [
    "gpa.ppf(.90)"
   ]
  },
  {
   "cell_type": "code",
   "execution_count": 43,
   "id": "7765f260",
   "metadata": {},
   "outputs": [
    {
     "data": {
      "text/plain": [
       "0.0198013266932447"
      ]
     },
     "execution_count": 43,
     "metadata": {},
     "output_type": "execute_result"
    }
   ],
   "source": [
    "#3 A marketing website has an average click-through rate of 2%. One day they observe 4326 visitors and 97 click-throughs. \n",
    "# How likely is it that this many people or more click through?\n",
    "\n",
    "# .02 two percent \n",
    "# 4326 visitors\n",
    "# 97 click throughs\n",
    "\n",
    "average = .02\n",
    "# σ = \n",
    "\n",
    "one_day = 97/4326\n",
    "\n",
    "click_through = stats.poisson.sf(one_day, average)\n",
    "click_through\n",
    "# print('{:,.2f}'.format(click_through))"
   ]
  },
  {
   "cell_type": "code",
   "execution_count": 44,
   "id": "7cb2a488",
   "metadata": {},
   "outputs": [
    {
     "name": "stdout",
     "output_type": "stream",
     "text": [
      "0.02\n"
     ]
    }
   ],
   "source": [
    "print('{:,.2f}'.format(click_through))"
   ]
  },
  {
   "cell_type": "code",
   "execution_count": 49,
   "id": "a2d52757",
   "metadata": {},
   "outputs": [
    {
     "data": {
      "text/plain": [
       "0.12123327131180733"
      ]
     },
     "execution_count": 49,
     "metadata": {},
     "output_type": "execute_result"
    }
   ],
   "source": [
    "#4 You are working on some statistics homework consisting of 100 questions where all of the answers \n",
    "# are a probability rounded to the hundreths place.\n",
    "# Looking to save time, you put down random probabilities as the answer to each question.\n",
    "\n",
    "# What is the probability that at least one of your first 60 answers is correct?\n",
    "\n",
    "# 100 questions\n",
    "# rounded to the hundreths .01\n",
    "# 1 in 60 is correct probality\n",
    "\n",
    "one_sixty = stats.binom(60, 1/100).sf(1) #60 questions with a chance of 1\n",
    "one_sixty"
   ]
  },
  {
   "cell_type": "code",
   "execution_count": 50,
   "id": "fb848a4b",
   "metadata": {},
   "outputs": [
    {
     "name": "stdout",
     "output_type": "stream",
     "text": [
      "0.12\n"
     ]
    }
   ],
   "source": [
    "print('{:,.2f}'.format(one_sixty))"
   ]
  },
  {
   "cell_type": "code",
   "execution_count": 52,
   "id": "ba5d180f",
   "metadata": {},
   "outputs": [
    {
     "data": {
      "text/plain": [
       "0.5317140258060139"
      ]
     },
     "execution_count": 52,
     "metadata": {},
     "output_type": "execute_result"
    }
   ],
   "source": [
    "#5 The codeup staff tends to get upset when the student break area is not cleaned up. \n",
    "# Suppose that there's a 3% chance that any one student cleans the break area when they visit it, \n",
    "# and, on any given day, about 90% of the 3 active cohorts of 22 students visit the break area. \n",
    "# How likely is it that the break area gets cleaned up each day? \n",
    "# How likely is it that it goes two days without getting cleaned up? All week?\n",
    "\n",
    "# .03 percent clean one studend\n",
    "# .90 percent visit\n",
    "# 3 cohorts of 22 students, 66 students\n",
    "# cleaned each day? 5 days?\n",
    "# 2 days not cleaned?\n",
    "# not cleaned all week?\n",
    "\n",
    "clean_avg = .03\n",
    "visit = .90 * 66\n",
    "\n",
    "clean_breakroom = stats.binom(visit, clean_avg).sf(1)\n",
    "clean_breakroom #cleaned each day"
   ]
  },
  {
   "cell_type": "code",
   "execution_count": 53,
   "id": "cf4a1bd8",
   "metadata": {},
   "outputs": [
    {
     "data": {
      "text/plain": [
       "0.026821436301629083"
      ]
     },
     "execution_count": 53,
     "metadata": {},
     "output_type": "execute_result"
    }
   ],
   "source": [
    "# two days without cleaning\n",
    "\n",
    "visit_2 = visit * 2 # double the amount of visits because there are 2 days\n",
    "two_days_dirty = stats.binom(visit_2, clean_avg).pmf(0) # 0 times being cleaned\n",
    "two_days_dirty"
   ]
  },
  {
   "cell_type": "code",
   "execution_count": 54,
   "id": "11567bb5",
   "metadata": {},
   "outputs": [
    {
     "data": {
      "text/plain": [
       "0.00011781621791055144"
      ]
     },
     "execution_count": 54,
     "metadata": {},
     "output_type": "execute_result"
    }
   ],
   "source": [
    "# all week dirty 5? \n",
    "\n",
    "visit_5 = visit * 5\n",
    "five_days_dirty = stats.binom(visit_5, clean_avg).pmf(0)\n",
    "five_days_dirty"
   ]
  },
  {
   "cell_type": "code",
   "execution_count": 59,
   "id": "a1f7ffd3",
   "metadata": {},
   "outputs": [
    {
     "data": {
      "text/plain": [
       "0.00031600001839867086"
      ]
     },
     "execution_count": 59,
     "metadata": {},
     "output_type": "execute_result"
    }
   ],
   "source": [
    "# all week dirty 7?\n",
    "\n",
    "visit_7 = visit * 7\n",
    "seven_days_dirty = stats.binom(visit_7, clean_avg).pmf(0)\n",
    "seven_days_dirty * 100\n"
   ]
  },
  {
   "cell_type": "code",
   "execution_count": 67,
   "id": "ccdc6142",
   "metadata": {},
   "outputs": [
    {
     "data": {
      "text/plain": [
       "0.9999683287581669"
      ]
     },
     "execution_count": 67,
     "metadata": {},
     "output_type": "execute_result"
    }
   ],
   "source": [
    "#6 You want to get lunch at La Panaderia, but notice that the line is usually very long at lunchtime. \n",
    "# After several weeks of careful observation, you notice that the average number of people in line when your \n",
    "# lunch break starts is normally distributed with a mean of 15 and standard deviation of 3. \n",
    "# If it takes 2 minutes for each person to order, and 10 minutes from ordering to getting your food, \n",
    "# what is the likelihood that you have at least 15 minutes left to eat your food before you have to go back to class? \n",
    "# Assume you have one hour for lunch, and ignore travel time to and from La Panaderia.\n",
    "\n",
    "# average 15 people\n",
    "# stdv 3 people\n",
    "# 2 min each person order\n",
    "# 10 min from order to food\n",
    "# at least 15 mins to eat\n",
    "# 1 hour lunch\n",
    "\n",
    "average_people = 15\n",
    "stdv = 3\n",
    "order = 2\n",
    "food = 10\n",
    "time_to_eat = 15\n",
    "lunch = 60 #hour / 60 minutes\n",
    "\n",
    "order_food = order + food # 12 minutes per person\n",
    "\n",
    "people_in_line = stats.norm(average_people, stdv).cdf(27) # people in line at start of lunch ?\n",
    "people_in_line\n",
    "\n",
    "# if there are 15 people in line at the start of lunch, it will take them 2 mins each to order \n",
    "# 2*15 = 30mins to place an order, 60-30 = 30mins remaining\n",
    "# 2 mins to place my order 30-2 = 28mins remaining\n",
    "# 10mins to get food, 28 - 10 = 18mins remaining\n",
    "# 15mins to eat, 18-15 = 3mins remaining"
   ]
  },
  {
   "cell_type": "code",
   "execution_count": null,
   "id": "f3f2f6c1",
   "metadata": {},
   "outputs": [],
   "source": [
    "# Connect to the employees database and find the average salary of current employees, \n",
    "# along with the standard deviation. \n",
    "# For the following questions, calculate the answer based on modeling the employees salaries with a normal \n",
    "# distribution defined by the calculated mean and standard deviation then compare this answer to the actual \n",
    "# values present in the salaries dataset."
   ]
  },
  {
   "cell_type": "code",
   "execution_count": null,
   "id": "ce81e3e3",
   "metadata": {},
   "outputs": [],
   "source": [
    "# What percent of employees earn less than 60,000?"
   ]
  },
  {
   "cell_type": "code",
   "execution_count": null,
   "id": "48a94b63",
   "metadata": {},
   "outputs": [],
   "source": [
    "# What percent of employees earn more than 95,000?"
   ]
  },
  {
   "cell_type": "code",
   "execution_count": null,
   "id": "08536bf8",
   "metadata": {},
   "outputs": [],
   "source": [
    "# What percent of employees earn between 65,000 and 80,000?"
   ]
  },
  {
   "cell_type": "code",
   "execution_count": null,
   "id": "d31d81ad",
   "metadata": {},
   "outputs": [],
   "source": [
    "# What do the top 5% of employees make?"
   ]
  }
 ],
 "metadata": {
  "kernelspec": {
   "display_name": "Python 3",
   "language": "python",
   "name": "python3"
  },
  "language_info": {
   "codemirror_mode": {
    "name": "ipython",
    "version": 3
   },
   "file_extension": ".py",
   "mimetype": "text/x-python",
   "name": "python",
   "nbconvert_exporter": "python",
   "pygments_lexer": "ipython3",
   "version": "3.8.8"
  }
 },
 "nbformat": 4,
 "nbformat_minor": 5
}
