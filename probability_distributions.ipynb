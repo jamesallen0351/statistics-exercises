{
 "cells": [
  {
   "cell_type": "code",
   "execution_count": 1,
   "id": "8b793e7b",
   "metadata": {},
   "outputs": [],
   "source": [
    "# probability_distributions"
   ]
  },
  {
   "cell_type": "code",
   "execution_count": 3,
   "id": "dd7efd5c",
   "metadata": {},
   "outputs": [],
   "source": [
    "import matplotlib.pyplot as plt\n",
    "import numpy as np\n",
    "from scipy import stats\n"
   ]
  },
  {
   "cell_type": "markdown",
   "id": "e78be914",
   "metadata": {},
   "source": [
    "# For the following problems, use python to simulate the problem and calculate an experimental probability, then compare that to the theoretical probability."
   ]
  },
  {
   "cell_type": "markdown",
   "id": "711da3fc",
   "metadata": {},
   "source": [
    "1. A bank found that the average number of cars waiting during the noon hour at a drive-up window follows a Poisson distribution with a mean of 2 cars. Make a chart of this distribution and answer these questions concerning the probability of cars waiting at the drive-up window."
   ]
  },
  {
   "cell_type": "code",
   "execution_count": 4,
   "id": "05ca94d8",
   "metadata": {},
   "outputs": [],
   "source": [
    "# What is the probability that no cars drive up in the noon hour?\n",
    "# What is the probability that 3 or more cars come through the drive through?\n",
    "# How likely is it that the drive through gets at least 1 car?"
   ]
  },
  {
   "cell_type": "code",
   "execution_count": 9,
   "id": "cb9a948c",
   "metadata": {},
   "outputs": [
    {
     "data": {
      "text/plain": [
       "0.1353352832366127"
      ]
     },
     "execution_count": 9,
     "metadata": {},
     "output_type": "execute_result"
    }
   ],
   "source": [
    "# drive through mean 2 cars\n",
    "\n",
    "stats.poisson(2).pmf(0)"
   ]
  },
  {
   "cell_type": "code",
   "execution_count": 10,
   "id": "b0e50323",
   "metadata": {},
   "outputs": [
    {
     "data": {
      "text/plain": [
       "0.18044704431548356"
      ]
     },
     "execution_count": 10,
     "metadata": {},
     "output_type": "execute_result"
    }
   ],
   "source": [
    "stats.poisson(2).pmf(3)"
   ]
  },
  {
   "cell_type": "code",
   "execution_count": 11,
   "id": "817681a2",
   "metadata": {},
   "outputs": [
    {
     "data": {
      "text/plain": [
       "0.2706705664732254"
      ]
     },
     "execution_count": 11,
     "metadata": {},
     "output_type": "execute_result"
    }
   ],
   "source": [
    "stats.poisson(2).pmf(1)"
   ]
  },
  {
   "cell_type": "code",
   "execution_count": 12,
   "id": "ab1f461d",
   "metadata": {},
   "outputs": [],
   "source": [
    "#2 Grades of State University graduates are normally distributed with a mean of 3.0 and a standard deviation of .3. \n",
    "# Calculate the following:\n",
    "\n",
    "# What grade point average is required to be in the top 5% of the graduating class?\n",
    "# What GPA constitutes the bottom 15% of the class?\n",
    "# An eccentric alumnus left scholarship money for students in the third decile from the bottom of their class.\n",
    "# Determine the range of the third decile.\n",
    "# Would a student with a 2.8 grade point average qualify for this scholarship?\n",
    "# If I have a GPA of 3.5, what percentile am I in?"
   ]
  },
  {
   "cell_type": "code",
   "execution_count": 20,
   "id": "23dbd87e",
   "metadata": {},
   "outputs": [
    {
     "data": {
      "text/plain": [
       "2.9239958690592602"
      ]
     },
     "execution_count": 20,
     "metadata": {},
     "output_type": "execute_result"
    }
   ],
   "source": [
    "# mean 3\n",
    "# stdv .3\n",
    "# What grade point average is required to be in the top 5% of the graduating class?\n",
    "μ = 3\n",
    "σ = .3\n",
    "\n",
    "gpa = stats.norm(μ, σ)\n",
    "\n",
    "top_5_percent = gpa.ppf(.4)\n",
    "top_5_percent\n",
    "\n",
    "# print('{:,.2f}'.format(top_5_percent))"
   ]
  },
  {
   "cell_type": "code",
   "execution_count": null,
   "id": "36665a9e",
   "metadata": {},
   "outputs": [],
   "source": [
    "# What GPA constitutes the bottom 15% of the class?\n"
   ]
  },
  {
   "cell_type": "code",
   "execution_count": null,
   "id": "602e5ab7",
   "metadata": {},
   "outputs": [],
   "source": [
    "# Determine the range of the third decile.\n"
   ]
  },
  {
   "cell_type": "code",
   "execution_count": null,
   "id": "eaf4c655",
   "metadata": {},
   "outputs": [],
   "source": [
    "# Would a student with a 2.8 grade point average qualify for this scholarship?\n"
   ]
  },
  {
   "cell_type": "code",
   "execution_count": null,
   "id": "b03ddaea",
   "metadata": {},
   "outputs": [],
   "source": [
    "# If I have a GPA of 3.5, what percentile am I in?\n"
   ]
  },
  {
   "cell_type": "code",
   "execution_count": 13,
   "id": "7765f260",
   "metadata": {},
   "outputs": [],
   "source": [
    "#3 A marketing website has an average click-through rate of 2%. One day they observe 4326 visitors and 97 click-throughs. \n",
    "# How likely is it that this many people or more click through?"
   ]
  },
  {
   "cell_type": "code",
   "execution_count": null,
   "id": "a2d52757",
   "metadata": {},
   "outputs": [],
   "source": [
    "#4 You are working on some statistics homework consisting of 100 questions where all of the answers are a probability rounded to the hundreths place.\n",
    "# Looking to save time, you put down random probabilities as the answer to each question.\n",
    "\n",
    "# What is the probability that at least one of your first 60 answers is correct?"
   ]
  }
 ],
 "metadata": {
  "kernelspec": {
   "display_name": "Python 3",
   "language": "python",
   "name": "python3"
  },
  "language_info": {
   "codemirror_mode": {
    "name": "ipython",
    "version": 3
   },
   "file_extension": ".py",
   "mimetype": "text/x-python",
   "name": "python",
   "nbconvert_exporter": "python",
   "pygments_lexer": "ipython3",
   "version": "3.8.8"
  }
 },
 "nbformat": 4,
 "nbformat_minor": 5
}
