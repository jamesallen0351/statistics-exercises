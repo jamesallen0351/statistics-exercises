{
 "cells": [
  {
   "cell_type": "code",
   "execution_count": 5,
   "id": "8b793e7b",
   "metadata": {},
   "outputs": [],
   "source": [
    "# probability_distributions"
   ]
  },
  {
   "cell_type": "code",
   "execution_count": 6,
   "id": "dd7efd5c",
   "metadata": {},
   "outputs": [],
   "source": [
    "import matplotlib.pyplot as plt\n",
    "import numpy as np\n",
    "from scipy import stats\n"
   ]
  },
  {
   "cell_type": "markdown",
   "id": "e78be914",
   "metadata": {},
   "source": [
    "# For the following problems, use python to simulate the problem and calculate an experimental probability, then compare that to the theoretical probability."
   ]
  },
  {
   "cell_type": "markdown",
   "id": "bfe25181",
   "metadata": {},
   "source": [
    "# 1. A bank found that the average number of cars waiting during the noon hour at a drive-up window follows a Poisson distribution with a mean of 2 cars. Make a chart of this distribution and answer these questions concerning the probability of cars waiting at the drive-up window."
   ]
  },
  {
   "cell_type": "code",
   "execution_count": 7,
   "id": "05ca94d8",
   "metadata": {},
   "outputs": [],
   "source": [
    "# What is the probability that no cars drive up in the noon hour?\n",
    "# What is the probability that 3 or more cars come through the drive through?\n",
    "# How likely is it that the drive through gets at least 1 car?"
   ]
  },
  {
   "cell_type": "code",
   "execution_count": 8,
   "id": "fee6a752",
   "metadata": {},
   "outputs": [],
   "source": [
    "# .rvs for simulations\n",
    "\n"
   ]
  },
  {
   "cell_type": "code",
   "execution_count": 9,
   "id": "cb9a948c",
   "metadata": {},
   "outputs": [
    {
     "data": {
      "text/plain": [
       "0.1353352832366127"
      ]
     },
     "execution_count": 9,
     "metadata": {},
     "output_type": "execute_result"
    }
   ],
   "source": [
    "# drive through mean 2 cars\n",
    "# What is the probability that no cars drive up in the noon hour?\n",
    "\n",
    "stats.poisson(2).pmf(0)"
   ]
  },
  {
   "cell_type": "code",
   "execution_count": 10,
   "id": "b0e50323",
   "metadata": {},
   "outputs": [
    {
     "data": {
      "text/plain": [
       "0.32332358381693654"
      ]
     },
     "execution_count": 10,
     "metadata": {},
     "output_type": "execute_result"
    }
   ],
   "source": [
    "# What is the probability that 3 or more cars come through the drive through?\n",
    "\n",
    "stats.poisson(2).sf(3-1) #use .sf and -1 for 3 or more cars"
   ]
  },
  {
   "cell_type": "code",
   "execution_count": 11,
   "id": "817681a2",
   "metadata": {},
   "outputs": [
    {
     "data": {
      "text/plain": [
       "0.8646647167633873"
      ]
     },
     "execution_count": 11,
     "metadata": {},
     "output_type": "execute_result"
    }
   ],
   "source": [
    "# # How likely is it that the drive through gets at least 1 car?\n",
    "\n",
    "stats.poisson(2).sf(0)"
   ]
  },
  {
   "cell_type": "code",
   "execution_count": 8,
   "id": "ab1f461d",
   "metadata": {},
   "outputs": [],
   "source": [
    "#2 Grades of State University graduates are normally distributed with a mean of 3.0 and a standard deviation of .3. \n",
    "# Calculate the following:\n",
    "\n",
    "# What grade point average is required to be in the top 5% of the graduating class?\n",
    "# What GPA constitutes the bottom 15% of the class?\n",
    "# An eccentric alumnus left scholarship money for students in the third decile from the bottom of their class.\n",
    "# Determine the range of the third decile.\n",
    "# Would a student with a 2.8 grade point average qualify for this scholarship?\n",
    "# If I have a GPA of 3.5, what percentile am I in?"
   ]
  },
  {
   "cell_type": "code",
   "execution_count": 13,
   "id": "23dbd87e",
   "metadata": {},
   "outputs": [
    {
     "name": "stdout",
     "output_type": "stream",
     "text": [
      "3.49\n"
     ]
    }
   ],
   "source": [
    "# mean 3\n",
    "# stdv .3\n",
    "# What grade point average is required to be in the top 5% of the graduating class?\n",
    "μ = 3\n",
    "σ = .3\n",
    "\n",
    "gpa = stats.norm(μ, σ)\n",
    "\n",
    "top_5_percent = gpa.ppf(.95) # top 5 percent is represented .95\n",
    "\n",
    "\n",
    "print('{:,.2f}'.format(top_5_percent))"
   ]
  },
  {
   "cell_type": "code",
   "execution_count": 14,
   "id": "66c9d995",
   "metadata": {},
   "outputs": [
    {
     "data": {
      "text/plain": [
       "3.4934560880854417"
      ]
     },
     "execution_count": 14,
     "metadata": {},
     "output_type": "execute_result"
    }
   ],
   "source": [
    "gpa.isf(.05) # 5% of the data is above our value"
   ]
  },
  {
   "cell_type": "code",
   "execution_count": 10,
   "id": "36665a9e",
   "metadata": {},
   "outputs": [
    {
     "name": "stdout",
     "output_type": "stream",
     "text": [
      "2.69\n"
     ]
    }
   ],
   "source": [
    "# What GPA constitutes the bottom 15% of the class?\n",
    "\n",
    "bottom_15_percent = gpa.ppf(.15)\n",
    "\n",
    "print('{:,.2f}'.format(bottom_15_percent))"
   ]
  },
  {
   "cell_type": "code",
   "execution_count": 15,
   "id": "71ec0541",
   "metadata": {},
   "outputs": [
    {
     "data": {
      "text/plain": [
       "2.7475136299281258"
      ]
     },
     "execution_count": 15,
     "metadata": {},
     "output_type": "execute_result"
    }
   ],
   "source": [
    "gpa.ppf(.20)"
   ]
  },
  {
   "cell_type": "code",
   "execution_count": 16,
   "id": "dbb64248",
   "metadata": {},
   "outputs": [
    {
     "data": {
      "text/plain": [
       "2.842679846187588"
      ]
     },
     "execution_count": 16,
     "metadata": {},
     "output_type": "execute_result"
    }
   ],
   "source": [
    "gpa.ppf(.30)"
   ]
  },
  {
   "cell_type": "code",
   "execution_count": 11,
   "id": "602e5ab7",
   "metadata": {},
   "outputs": [
    {
     "data": {
      "text/plain": [
       "0.0951662162594622"
      ]
     },
     "execution_count": 11,
     "metadata": {},
     "output_type": "execute_result"
    }
   ],
   "source": [
    "# Determine the range of the third decile.\n",
    "\n",
    "thrid_decile = gpa.ppf(.30) - gpa.ppf(.20)\n",
    "thrid_decile # range of third_decile .0951\n",
    "\n"
   ]
  },
  {
   "cell_type": "code",
   "execution_count": 12,
   "id": "eaf4c655",
   "metadata": {},
   "outputs": [
    {
     "data": {
      "text/plain": [
       "0.2524925375469227"
      ]
     },
     "execution_count": 12,
     "metadata": {},
     "output_type": "execute_result"
    }
   ],
   "source": [
    "# Would a student with a 2.8 grade point average qualify for this scholarship?\n",
    "\n",
    "gpa.cdf(2.8) # yes they would qualify # .25 between .20 and .30"
   ]
  },
  {
   "cell_type": "code",
   "execution_count": 13,
   "id": "943b1273",
   "metadata": {},
   "outputs": [
    {
     "data": {
      "text/plain": [
       "2.8"
      ]
     },
     "execution_count": 13,
     "metadata": {},
     "output_type": "execute_result"
    }
   ],
   "source": [
    "gpa.ppf(.2524925375469227)"
   ]
  },
  {
   "cell_type": "code",
   "execution_count": 14,
   "id": "b03ddaea",
   "metadata": {},
   "outputs": [
    {
     "data": {
      "text/plain": [
       "0.9522096477271853"
      ]
     },
     "execution_count": 14,
     "metadata": {},
     "output_type": "execute_result"
    }
   ],
   "source": [
    "# If I have a GPA of 3.5, what percentile am I in?\n",
    "\n",
    "gpa.cdf(3.5)"
   ]
  },
  {
   "cell_type": "code",
   "execution_count": 15,
   "id": "ea6b22f9",
   "metadata": {},
   "outputs": [
    {
     "data": {
      "text/plain": [
       "3.3844654696633802"
      ]
     },
     "execution_count": 15,
     "metadata": {},
     "output_type": "execute_result"
    }
   ],
   "source": [
    "gpa.ppf(.90)"
   ]
  },
  {
   "cell_type": "code",
   "execution_count": 16,
   "id": "7765f260",
   "metadata": {},
   "outputs": [
    {
     "data": {
      "text/plain": [
       "0.0198013266932447"
      ]
     },
     "execution_count": 16,
     "metadata": {},
     "output_type": "execute_result"
    }
   ],
   "source": [
    "#3 A marketing website has an average click-through rate of 2%. One day they observe 4326 visitors and 97 click-throughs. \n",
    "# How likely is it that this many people or more click through?\n",
    "\n",
    "# .02 two percent \n",
    "# 4326 visitors\n",
    "# 97 click throughs\n",
    "\n",
    "average = .02\n",
    "\n",
    "\n",
    "one_day = 97/4326\n",
    "\n",
    "click_through = stats.poisson.sf(one_day, average)\n",
    "click_through\n",
    "# print('{:,.2f}'.format(click_through))"
   ]
  },
  {
   "cell_type": "code",
   "execution_count": 17,
   "id": "bef0e9fd",
   "metadata": {},
   "outputs": [
    {
     "data": {
      "text/plain": [
       "0.1397582363130086"
      ]
     },
     "execution_count": 17,
     "metadata": {},
     "output_type": "execute_result"
    }
   ],
   "source": [
    "# correct answer\n",
    "prob_success = .02\n",
    "n_trials = 4326\n",
    "target = 97\n",
    "\n",
    "stats.binom(n_trials, prob_success).sf(target-1)"
   ]
  },
  {
   "cell_type": "code",
   "execution_count": 19,
   "id": "a2d52757",
   "metadata": {},
   "outputs": [
    {
     "data": {
      "text/plain": [
       "0.4528433576092542"
      ]
     },
     "execution_count": 19,
     "metadata": {},
     "output_type": "execute_result"
    }
   ],
   "source": [
    "#4 You are working on some statistics homework consisting of 100 questions where all of the answers \n",
    "# are a probability rounded to the hundreths place.\n",
    "# Looking to save time, you put down random probabilities as the answer to each question.\n",
    "\n",
    "# What is the probability that at least one of your first 60 answers is correct?\n",
    "\n",
    "# 100 questions\n",
    "# rounded to the hundreths .01\n",
    "# 1 in 60 is correct probality\n",
    "\n",
    "one_sixty = stats.binom(60, 1/100) #60 questions with a chance of 1\n",
    "hw = one_sixty.pmf(1) + one_sixty.sf(1)\n",
    "hw"
   ]
  },
  {
   "cell_type": "code",
   "execution_count": 20,
   "id": "a5fd82c8",
   "metadata": {},
   "outputs": [
    {
     "name": "stdout",
     "output_type": "stream",
     "text": [
      "0.45\n"
     ]
    }
   ],
   "source": [
    "print('{:,.2f}'.format(hw))"
   ]
  },
  {
   "cell_type": "code",
   "execution_count": 21,
   "id": "b197963c",
   "metadata": {},
   "outputs": [
    {
     "data": {
      "text/plain": [
       "0.4528433576092388"
      ]
     },
     "execution_count": 21,
     "metadata": {},
     "output_type": "execute_result"
    }
   ],
   "source": [
    "#example correct answer\n",
    "prob = .01\n",
    "trial = 60\n",
    "desire = 1\n",
    "\n",
    "stats.binom(trial, prob).sf(desire-1)"
   ]
  },
  {
   "cell_type": "code",
   "execution_count": 25,
   "id": "ba5d180f",
   "metadata": {},
   "outputs": [
    {
     "data": {
      "text/plain": [
       "0.8342199288437355"
      ]
     },
     "execution_count": 25,
     "metadata": {},
     "output_type": "execute_result"
    }
   ],
   "source": [
    "#5 The codeup staff tends to get upset when the student break area is not cleaned up. \n",
    "# Suppose that there's a 3% chance that any one student cleans the break area when they visit it, \n",
    "# and, on any given day, about 90% of the 3 active cohorts of 22 students visit the break area. \n",
    "# How likely is it that the break area gets cleaned up each day? \n",
    "# How likely is it that it goes two days without getting cleaned up? All week?\n",
    "\n",
    "# .03 percent clean one student\n",
    "# .90 percent visit\n",
    "# 3 cohorts of 22 students, 66 students\n",
    "# cleaned each day? 5 days?\n",
    "# 2 days not cleaned?\n",
    "# not cleaned all week?\n",
    "\n",
    "clean_avg = .03\n",
    "visit = .90 * 66\n",
    "\n",
    "clean_breakroom = stats.binom(visit, clean_avg).sf(1-1)\n",
    "clean_breakroom #cleaned each day"
   ]
  },
  {
   "cell_type": "code",
   "execution_count": 26,
   "id": "aec43626",
   "metadata": {},
   "outputs": [
    {
     "data": {
      "text/plain": [
       "0.16578007115626447"
      ]
     },
     "execution_count": 26,
     "metadata": {},
     "output_type": "execute_result"
    }
   ],
   "source": [
    "# subtract clean breakroom from 1 gives 1 day not being cleaned\n",
    "1 - clean_breakroom"
   ]
  },
  {
   "cell_type": "code",
   "execution_count": 21,
   "id": "cf4a1bd8",
   "metadata": {},
   "outputs": [
    {
     "data": {
      "text/plain": [
       "0.026821436301629083"
      ]
     },
     "execution_count": 21,
     "metadata": {},
     "output_type": "execute_result"
    }
   ],
   "source": [
    "# two days without cleaning\n",
    "\n",
    "visit_2 = visit * 2 # double the amount of visits because there are 2 days\n",
    "two_days_dirty = stats.binom(visit_2, clean_avg).pmf(0) # 0 times being cleaned\n",
    "two_days_dirty"
   ]
  },
  {
   "cell_type": "code",
   "execution_count": 27,
   "id": "e6a0e2df",
   "metadata": {},
   "outputs": [
    {
     "data": {
      "text/plain": [
       "0.027483031992576113"
      ]
     },
     "execution_count": 27,
     "metadata": {},
     "output_type": "execute_result"
    }
   ],
   "source": [
    "# odds of 1 day being cleaned squared give two days not being clean\n",
    "(1 - clean_breakroom)**2"
   ]
  },
  {
   "cell_type": "code",
   "execution_count": 22,
   "id": "11567bb5",
   "metadata": {},
   "outputs": [
    {
     "data": {
      "text/plain": [
       "0.00011781621791055144"
      ]
     },
     "execution_count": 22,
     "metadata": {},
     "output_type": "execute_result"
    }
   ],
   "source": [
    "# all week dirty 5? \n",
    "\n",
    "visit_5 = visit * 5\n",
    "five_days_dirty = stats.binom(visit_5, clean_avg).pmf(0)\n",
    "five_days_dirty"
   ]
  },
  {
   "cell_type": "code",
   "execution_count": 45,
   "id": "c341e755",
   "metadata": {},
   "outputs": [
    {
     "data": {
      "text/plain": [
       "0.0001252165138809122"
      ]
     },
     "execution_count": 45,
     "metadata": {},
     "output_type": "execute_result"
    }
   ],
   "source": [
    "# 5 days dirty\n",
    "(1 - clean_breakroom)**5"
   ]
  },
  {
   "cell_type": "code",
   "execution_count": 23,
   "id": "a1f7ffd3",
   "metadata": {},
   "outputs": [
    {
     "data": {
      "text/plain": [
       "0.00031600001839867086"
      ]
     },
     "execution_count": 23,
     "metadata": {},
     "output_type": "execute_result"
    }
   ],
   "source": [
    "# all week dirty 7?\n",
    "\n",
    "visit_7 = visit * 7\n",
    "seven_days_dirty = stats.binom(visit_7, clean_avg).pmf(0)\n",
    "seven_days_dirty * 100\n"
   ]
  },
  {
   "cell_type": "code",
   "execution_count": 46,
   "id": "60bf51ae",
   "metadata": {},
   "outputs": [
    {
     "data": {
      "text/plain": [
       "3.441329456987961e-06"
      ]
     },
     "execution_count": 46,
     "metadata": {},
     "output_type": "execute_result"
    }
   ],
   "source": [
    "# 7 days dirty\n",
    "(1 - clean_breakroom)**7"
   ]
  },
  {
   "cell_type": "code",
   "execution_count": 47,
   "id": "ccdc6142",
   "metadata": {},
   "outputs": [
    {
     "data": {
      "text/plain": [
       "0.6914624612740131"
      ]
     },
     "execution_count": 47,
     "metadata": {},
     "output_type": "execute_result"
    }
   ],
   "source": [
    "#6 You want to get lunch at La Panaderia, but notice that the line is usually very long at lunchtime. \n",
    "# After several weeks of careful observation, you notice that the average number of people in line when your \n",
    "# lunch break starts is normally distributed with a mean of 15 and standard deviation of 3. \n",
    "# If it takes 2 minutes for each person to order, and 10 minutes from ordering to getting your food, \n",
    "# what is the likelihood that you have at least 15 minutes left to eat your food before you have to go back to class? \n",
    "# Assume you have one hour for lunch, and ignore travel time to and from La Panaderia.\n",
    "\n",
    "# average 15 people\n",
    "# stdv 3 people\n",
    "# 2 min each person order\n",
    "# 10 min from order to food\n",
    "# at least 15 mins to eat\n",
    "# 1 hour lunch\n",
    "\n",
    "average_people = 15\n",
    "stdv = 3\n",
    "order = 2\n",
    "food = 10\n",
    "time_to_eat = 15\n",
    "lunch = 60 #hour / 60 minutes\n",
    "\n",
    "order_food = order + food # 12 minutes per person, I do not think I need this\n",
    "\n",
    "people_in_line = stats.norm(average_people, stdv).cdf(16.5) # people in line at start of lunch ?\n",
    "people_in_line\n",
    "\n",
    "# if there are 15 people in line at the start of lunch, it will take them 2 mins each to order \n",
    "# 2*15 = 30mins to place an order, 60-30 = 30mins remaining\n",
    "# 2 mins to place my order 30-2 = 28mins remaining\n",
    "# 10mins to get food, 28 - 10 = 18mins remaining\n",
    "# 15mins to eat, 18-15 = 3mins remaining\n",
    "\n"
   ]
  },
  {
   "cell_type": "code",
   "execution_count": 48,
   "id": "398dfebf",
   "metadata": {},
   "outputs": [],
   "source": [
    "#example answer\n",
    "mean_cust = 15\n",
    "sd_cust = 3\n",
    "time_order = 2\n",
    "time_food = 10\n",
    "time_eat = 15\n",
    "total_time = 60"
   ]
  },
  {
   "cell_type": "code",
   "execution_count": 49,
   "id": "b2d3d47a",
   "metadata": {},
   "outputs": [
    {
     "data": {
      "text/plain": [
       "33"
      ]
     },
     "execution_count": 49,
     "metadata": {},
     "output_type": "execute_result"
    }
   ],
   "source": [
    "#example answer\n",
    "max_time_line = total_time - time_food - time_order - time_eat\n",
    "max_time_line"
   ]
  },
  {
   "cell_type": "code",
   "execution_count": 51,
   "id": "7b8f209d",
   "metadata": {},
   "outputs": [
    {
     "data": {
      "text/plain": [
       "16.5"
      ]
     },
     "execution_count": 51,
     "metadata": {},
     "output_type": "execute_result"
    }
   ],
   "source": [
    "#example answer\n",
    "max_cust_line = max_time_line / time_order\n",
    "max_cust_line"
   ]
  },
  {
   "cell_type": "code",
   "execution_count": 52,
   "id": "fa05d8fe",
   "metadata": {},
   "outputs": [
    {
     "data": {
      "text/plain": [
       "0.6914624612740131"
      ]
     },
     "execution_count": 52,
     "metadata": {},
     "output_type": "execute_result"
    }
   ],
   "source": [
    "#example answer\n",
    "stats.norm(mean_cust, sd_cust).cdf(max_cust_line)"
   ]
  },
  {
   "cell_type": "code",
   "execution_count": 29,
   "id": "f3f2f6c1",
   "metadata": {},
   "outputs": [],
   "source": [
    "# Connect to the employees database and find the average salary of current employees, \n",
    "# along with the standard deviation. \n",
    "# For the following questions, calculate the answer based on modeling the employees salaries with a normal \n",
    "# distribution defined by the calculated mean and standard deviation then compare this answer to the actual \n",
    "# values present in the salaries dataset.\n",
    "\n",
    "\n",
    "\n",
    "from env import host, user, password\n",
    "\n",
    "url = f'mysql+pymysql://{user}:{password}@{host}/employees'"
   ]
  },
  {
   "cell_type": "code",
   "execution_count": 30,
   "id": "d811a31a",
   "metadata": {},
   "outputs": [],
   "source": [
    "\n",
    "def get_db_url(user,password,host,database):\n",
    "    \n",
    "    return f'mysql+pymysql://{user}:{password}@{host}/{database}'"
   ]
  },
  {
   "cell_type": "code",
   "execution_count": 31,
   "id": "4873e051",
   "metadata": {},
   "outputs": [
    {
     "data": {
      "text/html": [
       "<div>\n",
       "<style scoped>\n",
       "    .dataframe tbody tr th:only-of-type {\n",
       "        vertical-align: middle;\n",
       "    }\n",
       "\n",
       "    .dataframe tbody tr th {\n",
       "        vertical-align: top;\n",
       "    }\n",
       "\n",
       "    .dataframe thead th {\n",
       "        text-align: right;\n",
       "    }\n",
       "</style>\n",
       "<table border=\"1\" class=\"dataframe\">\n",
       "  <thead>\n",
       "    <tr style=\"text-align: right;\">\n",
       "      <th></th>\n",
       "      <th>emp_no</th>\n",
       "      <th>birth_date</th>\n",
       "      <th>first_name</th>\n",
       "      <th>last_name</th>\n",
       "      <th>gender</th>\n",
       "      <th>hire_date</th>\n",
       "    </tr>\n",
       "  </thead>\n",
       "  <tbody>\n",
       "    <tr>\n",
       "      <th>0</th>\n",
       "      <td>10001</td>\n",
       "      <td>1953-09-02</td>\n",
       "      <td>Georgi</td>\n",
       "      <td>Facello</td>\n",
       "      <td>M</td>\n",
       "      <td>1986-06-26</td>\n",
       "    </tr>\n",
       "    <tr>\n",
       "      <th>1</th>\n",
       "      <td>10002</td>\n",
       "      <td>1964-06-02</td>\n",
       "      <td>Bezalel</td>\n",
       "      <td>Simmel</td>\n",
       "      <td>F</td>\n",
       "      <td>1985-11-21</td>\n",
       "    </tr>\n",
       "    <tr>\n",
       "      <th>2</th>\n",
       "      <td>10003</td>\n",
       "      <td>1959-12-03</td>\n",
       "      <td>Parto</td>\n",
       "      <td>Bamford</td>\n",
       "      <td>M</td>\n",
       "      <td>1986-08-28</td>\n",
       "    </tr>\n",
       "    <tr>\n",
       "      <th>3</th>\n",
       "      <td>10004</td>\n",
       "      <td>1954-05-01</td>\n",
       "      <td>Chirstian</td>\n",
       "      <td>Koblick</td>\n",
       "      <td>M</td>\n",
       "      <td>1986-12-01</td>\n",
       "    </tr>\n",
       "    <tr>\n",
       "      <th>4</th>\n",
       "      <td>10005</td>\n",
       "      <td>1955-01-21</td>\n",
       "      <td>Kyoichi</td>\n",
       "      <td>Maliniak</td>\n",
       "      <td>M</td>\n",
       "      <td>1989-09-12</td>\n",
       "    </tr>\n",
       "    <tr>\n",
       "      <th>...</th>\n",
       "      <td>...</td>\n",
       "      <td>...</td>\n",
       "      <td>...</td>\n",
       "      <td>...</td>\n",
       "      <td>...</td>\n",
       "      <td>...</td>\n",
       "    </tr>\n",
       "    <tr>\n",
       "      <th>300019</th>\n",
       "      <td>499995</td>\n",
       "      <td>1958-09-24</td>\n",
       "      <td>Dekang</td>\n",
       "      <td>Lichtner</td>\n",
       "      <td>F</td>\n",
       "      <td>1993-01-12</td>\n",
       "    </tr>\n",
       "    <tr>\n",
       "      <th>300020</th>\n",
       "      <td>499996</td>\n",
       "      <td>1953-03-07</td>\n",
       "      <td>Zito</td>\n",
       "      <td>Baaz</td>\n",
       "      <td>M</td>\n",
       "      <td>1990-09-27</td>\n",
       "    </tr>\n",
       "    <tr>\n",
       "      <th>300021</th>\n",
       "      <td>499997</td>\n",
       "      <td>1961-08-03</td>\n",
       "      <td>Berhard</td>\n",
       "      <td>Lenart</td>\n",
       "      <td>M</td>\n",
       "      <td>1986-04-21</td>\n",
       "    </tr>\n",
       "    <tr>\n",
       "      <th>300022</th>\n",
       "      <td>499998</td>\n",
       "      <td>1956-09-05</td>\n",
       "      <td>Patricia</td>\n",
       "      <td>Breugel</td>\n",
       "      <td>M</td>\n",
       "      <td>1993-10-13</td>\n",
       "    </tr>\n",
       "    <tr>\n",
       "      <th>300023</th>\n",
       "      <td>499999</td>\n",
       "      <td>1958-05-01</td>\n",
       "      <td>Sachin</td>\n",
       "      <td>Tsukuda</td>\n",
       "      <td>M</td>\n",
       "      <td>1997-11-30</td>\n",
       "    </tr>\n",
       "  </tbody>\n",
       "</table>\n",
       "<p>300024 rows × 6 columns</p>\n",
       "</div>"
      ],
      "text/plain": [
       "        emp_no  birth_date first_name last_name gender   hire_date\n",
       "0        10001  1953-09-02     Georgi   Facello      M  1986-06-26\n",
       "1        10002  1964-06-02    Bezalel    Simmel      F  1985-11-21\n",
       "2        10003  1959-12-03      Parto   Bamford      M  1986-08-28\n",
       "3        10004  1954-05-01  Chirstian   Koblick      M  1986-12-01\n",
       "4        10005  1955-01-21    Kyoichi  Maliniak      M  1989-09-12\n",
       "...        ...         ...        ...       ...    ...         ...\n",
       "300019  499995  1958-09-24     Dekang  Lichtner      F  1993-01-12\n",
       "300020  499996  1953-03-07       Zito      Baaz      M  1990-09-27\n",
       "300021  499997  1961-08-03    Berhard    Lenart      M  1986-04-21\n",
       "300022  499998  1956-09-05   Patricia   Breugel      M  1993-10-13\n",
       "300023  499999  1958-05-01     Sachin   Tsukuda      M  1997-11-30\n",
       "\n",
       "[300024 rows x 6 columns]"
      ]
     },
     "execution_count": 31,
     "metadata": {},
     "output_type": "execute_result"
    }
   ],
   "source": [
    "import pandas as pd\n",
    "from env import user, password, host\n",
    "\n",
    "pd.read_sql(\"select * from employees\", get_db_url(user, password, host, 'employees'))"
   ]
  },
  {
   "cell_type": "code",
   "execution_count": 32,
   "id": "043cddec",
   "metadata": {},
   "outputs": [],
   "source": [
    "def get_data_from_sql(user, host, password, database, query):\n",
    "    \n",
    "    url = f'mysql+pymysql://{user}:{password}@{host}/{database}'\n",
    "        \n",
    "    return pd.read_sql(query, url)"
   ]
  },
  {
   "cell_type": "code",
   "execution_count": 33,
   "id": "ae4895a9",
   "metadata": {},
   "outputs": [],
   "source": [
    "query = '''select * from employees'''\n",
    "\n",
    "df = get_data_from_sql(user, host, password, \"employees\", query)"
   ]
  },
  {
   "cell_type": "code",
   "execution_count": 34,
   "id": "6515afff",
   "metadata": {
    "scrolled": true
   },
   "outputs": [
    {
     "data": {
      "text/html": [
       "<div>\n",
       "<style scoped>\n",
       "    .dataframe tbody tr th:only-of-type {\n",
       "        vertical-align: middle;\n",
       "    }\n",
       "\n",
       "    .dataframe tbody tr th {\n",
       "        vertical-align: top;\n",
       "    }\n",
       "\n",
       "    .dataframe thead th {\n",
       "        text-align: right;\n",
       "    }\n",
       "</style>\n",
       "<table border=\"1\" class=\"dataframe\">\n",
       "  <thead>\n",
       "    <tr style=\"text-align: right;\">\n",
       "      <th></th>\n",
       "      <th>salary</th>\n",
       "    </tr>\n",
       "  </thead>\n",
       "  <tbody>\n",
       "    <tr>\n",
       "      <th>0</th>\n",
       "      <td>88958</td>\n",
       "    </tr>\n",
       "    <tr>\n",
       "      <th>1</th>\n",
       "      <td>72527</td>\n",
       "    </tr>\n",
       "    <tr>\n",
       "      <th>2</th>\n",
       "      <td>43311</td>\n",
       "    </tr>\n",
       "    <tr>\n",
       "      <th>3</th>\n",
       "      <td>74057</td>\n",
       "    </tr>\n",
       "    <tr>\n",
       "      <th>4</th>\n",
       "      <td>94692</td>\n",
       "    </tr>\n",
       "  </tbody>\n",
       "</table>\n",
       "</div>"
      ],
      "text/plain": [
       "   salary\n",
       "0   88958\n",
       "1   72527\n",
       "2   43311\n",
       "3   74057\n",
       "4   94692"
      ]
     },
     "execution_count": 34,
     "metadata": {},
     "output_type": "execute_result"
    }
   ],
   "source": [
    "salaries = get_data_from_sql(user, host, password, 'employees', 'select salary from salaries where to_date >= now()')\n",
    "salaries.head()"
   ]
  },
  {
   "cell_type": "code",
   "execution_count": 35,
   "id": "e4d75b21",
   "metadata": {},
   "outputs": [
    {
     "data": {
      "text/plain": [
       "salary    72012.235857\n",
       "dtype: float64"
      ]
     },
     "execution_count": 35,
     "metadata": {},
     "output_type": "execute_result"
    }
   ],
   "source": [
    "# find the average salary of current employees\n",
    "avg = salaries.mean()\n",
    "avg\n"
   ]
  },
  {
   "cell_type": "code",
   "execution_count": 36,
   "id": "37982c23",
   "metadata": {},
   "outputs": [
    {
     "data": {
      "text/plain": [
       "salary    17309.99538\n",
       "dtype: float64"
      ]
     },
     "execution_count": 36,
     "metadata": {},
     "output_type": "execute_result"
    }
   ],
   "source": [
    "# along with the standard deviation\n",
    "stdv = salaries.std()\n",
    "stdv"
   ]
  },
  {
   "cell_type": "code",
   "execution_count": 37,
   "id": "1382ce50",
   "metadata": {},
   "outputs": [],
   "source": [
    "salary_norml = stats.norm(avg, stdv)"
   ]
  },
  {
   "cell_type": "code",
   "execution_count": 38,
   "id": "ce81e3e3",
   "metadata": {},
   "outputs": [
    {
     "data": {
      "text/plain": [
       "array([0.24383931])"
      ]
     },
     "execution_count": 38,
     "metadata": {},
     "output_type": "execute_result"
    }
   ],
   "source": [
    "# What percent of employees earn less than 60,000?\n",
    "\n",
    "salary_norml.cdf(60_000) - salary_norml.pdf(60_000)"
   ]
  },
  {
   "cell_type": "code",
   "execution_count": 39,
   "id": "48a94b63",
   "metadata": {},
   "outputs": [
    {
     "data": {
      "text/plain": [
       "array([0.09208819])"
      ]
     },
     "execution_count": 39,
     "metadata": {},
     "output_type": "execute_result"
    }
   ],
   "source": [
    "# What percent of employees earn more than 95,000?\n",
    "\n",
    "salary_norml.sf(95_000)"
   ]
  },
  {
   "cell_type": "code",
   "execution_count": 40,
   "id": "08536bf8",
   "metadata": {},
   "outputs": [
    {
     "data": {
      "text/plain": [
       "array([0.33506057])"
      ]
     },
     "execution_count": 40,
     "metadata": {},
     "output_type": "execute_result"
    }
   ],
   "source": [
    "# What percent of employees earn between 65,000 and 80,000?\n",
    "\n",
    "salary_norml.cdf(80_000) - salary_norml.cdf(65_000)"
   ]
  },
  {
   "cell_type": "code",
   "execution_count": 41,
   "id": "d31d81ad",
   "metadata": {},
   "outputs": [
    {
     "data": {
      "text/plain": [
       "array([100484.64454103])"
      ]
     },
     "execution_count": 41,
     "metadata": {},
     "output_type": "execute_result"
    }
   ],
   "source": [
    "# What do the top 5% of employees make?\n",
    "\n",
    "salary_norml.ppf(.95)"
   ]
  },
  {
   "cell_type": "code",
   "execution_count": 42,
   "id": "1a815266",
   "metadata": {},
   "outputs": [
    {
     "data": {
      "text/plain": [
       "array([112281.30680981])"
      ]
     },
     "execution_count": 42,
     "metadata": {},
     "output_type": "execute_result"
    }
   ],
   "source": [
    "salary_norml.ppf(.99)"
   ]
  },
  {
   "cell_type": "code",
   "execution_count": 43,
   "id": "fde064af",
   "metadata": {},
   "outputs": [
    {
     "data": {
      "text/plain": [
       "array([136388.39403963])"
      ]
     },
     "execution_count": 43,
     "metadata": {},
     "output_type": "execute_result"
    }
   ],
   "source": [
    "salary_norml.ppf(.9999)"
   ]
  },
  {
   "cell_type": "code",
   "execution_count": 55,
   "id": "64f59e45",
   "metadata": {},
   "outputs": [
    {
     "data": {
      "text/plain": [
       "array([0.99998409])"
      ]
     },
     "execution_count": 55,
     "metadata": {},
     "output_type": "execute_result"
    }
   ],
   "source": [
    "salary_norml.sf(.95)"
   ]
  },
  {
   "cell_type": "code",
   "execution_count": 53,
   "id": "94bc4781",
   "metadata": {},
   "outputs": [
    {
     "data": {
      "text/plain": [
       "array([100484.64454103])"
      ]
     },
     "execution_count": 53,
     "metadata": {},
     "output_type": "execute_result"
    }
   ],
   "source": [
    "salary_norml.isf(.05)"
   ]
  },
  {
   "cell_type": "code",
   "execution_count": null,
   "id": "7ed76903",
   "metadata": {},
   "outputs": [],
   "source": []
  }
 ],
 "metadata": {
  "kernelspec": {
   "display_name": "Python 3",
   "language": "python",
   "name": "python3"
  },
  "language_info": {
   "codemirror_mode": {
    "name": "ipython",
    "version": 3
   },
   "file_extension": ".py",
   "mimetype": "text/x-python",
   "name": "python",
   "nbconvert_exporter": "python",
   "pygments_lexer": "ipython3",
   "version": "3.8.8"
  }
 },
 "nbformat": 4,
 "nbformat_minor": 5
}
